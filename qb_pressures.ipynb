{
  "nbformat": 4,
  "nbformat_minor": 0,
  "metadata": {
    "colab": {
      "name": "qb_pressures.ipynb",
      "provenance": [],
      "collapsed_sections": [
        "BD-q146wpgq5"
      ],
      "mount_file_id": "1ISHrfiXYG3x4-QwR6_lWhEwZcclSRr2G",
      "authorship_tag": "ABX9TyOigZUcEW94LaDgFgdjlcTn",
      "include_colab_link": true
    },
    "kernelspec": {
      "name": "python3",
      "display_name": "Python 3"
    },
    "widgets": {
      "application/vnd.jupyter.widget-state+json": {
        "85010fdbeee64ea59719712f6bf9df7a": {
          "model_module": "@jupyter-widgets/controls",
          "model_name": "HBoxModel",
          "state": {
            "_view_name": "HBoxView",
            "_dom_classes": [],
            "_model_name": "HBoxModel",
            "_view_module": "@jupyter-widgets/controls",
            "_model_module_version": "1.5.0",
            "_view_count": null,
            "_view_module_version": "1.5.0",
            "box_style": "",
            "layout": "IPY_MODEL_9f6a41603aea409eac3d4fbf4bc9abd2",
            "_model_module": "@jupyter-widgets/controls",
            "children": [
              "IPY_MODEL_98adfb2c26ca45cf8710c84353a0c8ca",
              "IPY_MODEL_51cc28fae6ae4a5f9878152b8319659f"
            ]
          }
        },
        "9f6a41603aea409eac3d4fbf4bc9abd2": {
          "model_module": "@jupyter-widgets/base",
          "model_name": "LayoutModel",
          "state": {
            "_view_name": "LayoutView",
            "grid_template_rows": null,
            "right": null,
            "justify_content": null,
            "_view_module": "@jupyter-widgets/base",
            "overflow": null,
            "_model_module_version": "1.2.0",
            "_view_count": null,
            "flex_flow": null,
            "width": null,
            "min_width": null,
            "border": null,
            "align_items": null,
            "bottom": null,
            "_model_module": "@jupyter-widgets/base",
            "top": null,
            "grid_column": null,
            "overflow_y": null,
            "overflow_x": null,
            "grid_auto_flow": null,
            "grid_area": null,
            "grid_template_columns": null,
            "flex": null,
            "_model_name": "LayoutModel",
            "justify_items": null,
            "grid_row": null,
            "max_height": null,
            "align_content": null,
            "visibility": null,
            "align_self": null,
            "height": null,
            "min_height": null,
            "padding": null,
            "grid_auto_rows": null,
            "grid_gap": null,
            "max_width": null,
            "order": null,
            "_view_module_version": "1.2.0",
            "grid_template_areas": null,
            "object_position": null,
            "object_fit": null,
            "grid_auto_columns": null,
            "margin": null,
            "display": null,
            "left": null
          }
        },
        "98adfb2c26ca45cf8710c84353a0c8ca": {
          "model_module": "@jupyter-widgets/controls",
          "model_name": "FloatProgressModel",
          "state": {
            "_view_name": "ProgressView",
            "style": "IPY_MODEL_c1a49a3873854cc7876b9c317cea4b29",
            "_dom_classes": [],
            "description": "",
            "_model_name": "FloatProgressModel",
            "bar_style": "success",
            "max": 1,
            "_view_module": "@jupyter-widgets/controls",
            "_model_module_version": "1.5.0",
            "value": 1,
            "_view_count": null,
            "_view_module_version": "1.5.0",
            "orientation": "horizontal",
            "min": 0,
            "description_tooltip": null,
            "_model_module": "@jupyter-widgets/controls",
            "layout": "IPY_MODEL_28b58e45593c457fa42d076049265d0e"
          }
        },
        "51cc28fae6ae4a5f9878152b8319659f": {
          "model_module": "@jupyter-widgets/controls",
          "model_name": "HTMLModel",
          "state": {
            "_view_name": "HTMLView",
            "style": "IPY_MODEL_a2d7d36a913e4a0ba1ddeec86cad3716",
            "_dom_classes": [],
            "description": "",
            "_model_name": "HTMLModel",
            "placeholder": "​",
            "_view_module": "@jupyter-widgets/controls",
            "_model_module_version": "1.5.0",
            "value": " 21/? [38:26&lt;00:00, 109.83s/it]",
            "_view_count": null,
            "_view_module_version": "1.5.0",
            "description_tooltip": null,
            "_model_module": "@jupyter-widgets/controls",
            "layout": "IPY_MODEL_3a30c607c0d345838d8c17eddbed6f86"
          }
        },
        "c1a49a3873854cc7876b9c317cea4b29": {
          "model_module": "@jupyter-widgets/controls",
          "model_name": "ProgressStyleModel",
          "state": {
            "_view_name": "StyleView",
            "_model_name": "ProgressStyleModel",
            "description_width": "initial",
            "_view_module": "@jupyter-widgets/base",
            "_model_module_version": "1.5.0",
            "_view_count": null,
            "_view_module_version": "1.2.0",
            "bar_color": null,
            "_model_module": "@jupyter-widgets/controls"
          }
        },
        "28b58e45593c457fa42d076049265d0e": {
          "model_module": "@jupyter-widgets/base",
          "model_name": "LayoutModel",
          "state": {
            "_view_name": "LayoutView",
            "grid_template_rows": null,
            "right": null,
            "justify_content": null,
            "_view_module": "@jupyter-widgets/base",
            "overflow": null,
            "_model_module_version": "1.2.0",
            "_view_count": null,
            "flex_flow": null,
            "width": null,
            "min_width": null,
            "border": null,
            "align_items": null,
            "bottom": null,
            "_model_module": "@jupyter-widgets/base",
            "top": null,
            "grid_column": null,
            "overflow_y": null,
            "overflow_x": null,
            "grid_auto_flow": null,
            "grid_area": null,
            "grid_template_columns": null,
            "flex": null,
            "_model_name": "LayoutModel",
            "justify_items": null,
            "grid_row": null,
            "max_height": null,
            "align_content": null,
            "visibility": null,
            "align_self": null,
            "height": null,
            "min_height": null,
            "padding": null,
            "grid_auto_rows": null,
            "grid_gap": null,
            "max_width": null,
            "order": null,
            "_view_module_version": "1.2.0",
            "grid_template_areas": null,
            "object_position": null,
            "object_fit": null,
            "grid_auto_columns": null,
            "margin": null,
            "display": null,
            "left": null
          }
        },
        "a2d7d36a913e4a0ba1ddeec86cad3716": {
          "model_module": "@jupyter-widgets/controls",
          "model_name": "DescriptionStyleModel",
          "state": {
            "_view_name": "StyleView",
            "_model_name": "DescriptionStyleModel",
            "description_width": "",
            "_view_module": "@jupyter-widgets/base",
            "_model_module_version": "1.5.0",
            "_view_count": null,
            "_view_module_version": "1.2.0",
            "_model_module": "@jupyter-widgets/controls"
          }
        },
        "3a30c607c0d345838d8c17eddbed6f86": {
          "model_module": "@jupyter-widgets/base",
          "model_name": "LayoutModel",
          "state": {
            "_view_name": "LayoutView",
            "grid_template_rows": null,
            "right": null,
            "justify_content": null,
            "_view_module": "@jupyter-widgets/base",
            "overflow": null,
            "_model_module_version": "1.2.0",
            "_view_count": null,
            "flex_flow": null,
            "width": null,
            "min_width": null,
            "border": null,
            "align_items": null,
            "bottom": null,
            "_model_module": "@jupyter-widgets/base",
            "top": null,
            "grid_column": null,
            "overflow_y": null,
            "overflow_x": null,
            "grid_auto_flow": null,
            "grid_area": null,
            "grid_template_columns": null,
            "flex": null,
            "_model_name": "LayoutModel",
            "justify_items": null,
            "grid_row": null,
            "max_height": null,
            "align_content": null,
            "visibility": null,
            "align_self": null,
            "height": null,
            "min_height": null,
            "padding": null,
            "grid_auto_rows": null,
            "grid_gap": null,
            "max_width": null,
            "order": null,
            "_view_module_version": "1.2.0",
            "grid_template_areas": null,
            "object_position": null,
            "object_fit": null,
            "grid_auto_columns": null,
            "margin": null,
            "display": null,
            "left": null
          }
        }
      }
    }
  },
  "cells": [
    {
      "cell_type": "markdown",
      "metadata": {
        "id": "view-in-github",
        "colab_type": "text"
      },
      "source": [
        "<a href=\"https://colab.research.google.com/github/nickwan/qb_pressures/blob/master/qb_pressures.ipynb\" target=\"_parent\"><img src=\"https://colab.research.google.com/assets/colab-badge.svg\" alt=\"Open In Colab\"/></a>"
      ]
    },
    {
      "cell_type": "markdown",
      "metadata": {
        "id": "EKvEnKgiooEa",
        "colab_type": "text"
      },
      "source": [
        "#QB Pressures"
      ]
    },
    {
      "cell_type": "markdown",
      "metadata": {
        "id": "FhVIsBVYojET",
        "colab_type": "text"
      },
      "source": [
        "#Load in \n"
      ]
    },
    {
      "cell_type": "code",
      "metadata": {
        "id": "WFZmL9hgosMW",
        "colab_type": "code",
        "colab": {
          "base_uri": "https://localhost:8080/",
          "height": 904
        },
        "outputId": "7e936e0b-0fa3-4549-85a7-3ac2ccb9b7ac"
      },
      "source": [
        "!apt install subversion --quiet\n",
        "!pip install adjustText --quiet\n",
        "!pip install shap --quiet\n",
        "!pip install scikit-garden --quiet\n",
        "!pip install rpy2 --quiet "
      ],
      "execution_count": 1,
      "outputs": [
        {
          "output_type": "stream",
          "text": [
            "Reading package lists...\n",
            "Building dependency tree...\n",
            "Reading state information...\n",
            "The following package was automatically installed and is no longer required:\n",
            "  libnvidia-common-440\n",
            "Use 'apt autoremove' to remove it.\n",
            "The following additional packages will be installed:\n",
            "  libapr1 libaprutil1 libserf-1-1 libsvn1\n",
            "Suggested packages:\n",
            "  db5.3-util libapache2-mod-svn subversion-tools\n",
            "The following NEW packages will be installed:\n",
            "  libapr1 libaprutil1 libserf-1-1 libsvn1 subversion\n",
            "0 upgraded, 5 newly installed, 0 to remove and 33 not upgraded.\n",
            "Need to get 2,237 kB of archives.\n",
            "After this operation, 9,910 kB of additional disk space will be used.\n",
            "Get:1 http://archive.ubuntu.com/ubuntu bionic/main amd64 libapr1 amd64 1.6.3-2 [90.9 kB]\n",
            "Get:2 http://archive.ubuntu.com/ubuntu bionic/main amd64 libaprutil1 amd64 1.6.1-2 [84.4 kB]\n",
            "Get:3 http://archive.ubuntu.com/ubuntu bionic/universe amd64 libserf-1-1 amd64 1.3.9-6 [44.4 kB]\n",
            "Get:4 http://archive.ubuntu.com/ubuntu bionic/universe amd64 libsvn1 amd64 1.9.7-4ubuntu1 [1,183 kB]\n",
            "Get:5 http://archive.ubuntu.com/ubuntu bionic/universe amd64 subversion amd64 1.9.7-4ubuntu1 [834 kB]\n",
            "Fetched 2,237 kB in 0s (15.9 MB/s)\n",
            "Selecting previously unselected package libapr1:amd64.\n",
            "(Reading database ... 144379 files and directories currently installed.)\n",
            "Preparing to unpack .../libapr1_1.6.3-2_amd64.deb ...\n",
            "Unpacking libapr1:amd64 (1.6.3-2) ...\n",
            "Selecting previously unselected package libaprutil1:amd64.\n",
            "Preparing to unpack .../libaprutil1_1.6.1-2_amd64.deb ...\n",
            "Unpacking libaprutil1:amd64 (1.6.1-2) ...\n",
            "Selecting previously unselected package libserf-1-1:amd64.\n",
            "Preparing to unpack .../libserf-1-1_1.3.9-6_amd64.deb ...\n",
            "Unpacking libserf-1-1:amd64 (1.3.9-6) ...\n",
            "Selecting previously unselected package libsvn1:amd64.\n",
            "Preparing to unpack .../libsvn1_1.9.7-4ubuntu1_amd64.deb ...\n",
            "Unpacking libsvn1:amd64 (1.9.7-4ubuntu1) ...\n",
            "Selecting previously unselected package subversion.\n",
            "Preparing to unpack .../subversion_1.9.7-4ubuntu1_amd64.deb ...\n",
            "Unpacking subversion (1.9.7-4ubuntu1) ...\n",
            "Setting up libapr1:amd64 (1.6.3-2) ...\n",
            "Setting up libaprutil1:amd64 (1.6.1-2) ...\n",
            "Setting up libserf-1-1:amd64 (1.3.9-6) ...\n",
            "Setting up libsvn1:amd64 (1.9.7-4ubuntu1) ...\n",
            "Setting up subversion (1.9.7-4ubuntu1) ...\n",
            "Processing triggers for libc-bin (2.27-3ubuntu1) ...\n",
            "/sbin/ldconfig.real: /usr/local/lib/python3.6/dist-packages/ideep4py/lib/libmkldnn.so.0 is not a symbolic link\n",
            "\n",
            "Processing triggers for man-db (2.8.3-2ubuntu0.1) ...\n",
            "  Building wheel for adjustText (setup.py) ... \u001b[?25l\u001b[?25hdone\n",
            "\u001b[K     |████████████████████████████████| 276kB 8.8MB/s \n",
            "\u001b[?25h  Building wheel for shap (setup.py) ... \u001b[?25l\u001b[?25hdone\n",
            "\u001b[K     |████████████████████████████████| 317kB 9.9MB/s \n",
            "\u001b[?25h  Building wheel for scikit-garden (setup.py) ... \u001b[?25l\u001b[?25hdone\n"
          ],
          "name": "stdout"
        }
      ]
    },
    {
      "cell_type": "code",
      "metadata": {
        "id": "Vjau7jHDouBz",
        "colab_type": "code",
        "colab": {
          "base_uri": "https://localhost:8080/",
          "height": 139
        },
        "outputId": "6d686834-4def-4200-9c1c-2df13d37660f"
      },
      "source": [
        "import time\n",
        "from joblib import dump, load\n",
        "import random\n",
        "import requests\n",
        "import json\n",
        "import datetime\n",
        "import os\n",
        "import re\n",
        "import pandas as pd\n",
        "import numpy as np \n",
        "import matplotlib.pyplot as plt \n",
        "import seaborn as sns \n",
        "from adjustText import adjust_text\n",
        "from tqdm.notebook import tqdm\n",
        "\n",
        "import rpy2.robjects as robjects\n",
        "from rpy2.robjects import pandas2ri\n",
        "\n",
        "from sklearn.linear_model import LinearRegression, LogisticRegression\n",
        "from sklearn.metrics import accuracy_score, mean_squared_error, log_loss\n",
        "from sklearn.model_selection import KFold \n",
        "\n",
        "from scipy.stats import pearsonr"
      ],
      "execution_count": 2,
      "outputs": [
        {
          "output_type": "stream",
          "text": [
            "/usr/local/lib/python3.6/dist-packages/statsmodels/tools/_testing.py:19: FutureWarning: pandas.util.testing is deprecated. Use the functions in the public API at pandas.testing instead.\n",
            "  import pandas.util.testing as tm\n",
            "/usr/local/lib/python3.6/dist-packages/rpy2/robjects/pandas2ri.py:14: FutureWarning: pandas.core.index is deprecated and will be removed in a future version.  The public classes are available in the top-level namespace.\n",
            "  from pandas.core.index import Index as PandasIndex\n",
            "/usr/local/lib/python3.6/dist-packages/rpy2/robjects/pandas2ri.py:34: UserWarning: pandas >= 1.0 is not supported.\n",
            "  warnings.warn('pandas >= 1.0 is not supported.')\n"
          ],
          "name": "stderr"
        }
      ]
    },
    {
      "cell_type": "code",
      "metadata": {
        "id": "npCpY4vLoweY",
        "colab_type": "code",
        "colab": {}
      },
      "source": [
        "# # # probably shouldn't rerun the full thing since it takes +30 mins \n",
        "# st = time.time()\n",
        "# !svn export https://github.com/guga31bb/nflfastR-data/trunk/data \"/content/drive/My Drive/nflfastR-data/data\" --force --quiet\n",
        "# !svn export https://github.com/guga31bb/nflfastR-data/trunk/roster-data \"/content/drive/My Drive/nflfastR-data/roster-data\" --force --quiet\n",
        "# dur = time.time() - st \n",
        "# print(f\"1 iteration dur (s): {dur}\\nETA (min): {6*round(dur/60)}\")\n"
      ],
      "execution_count": 3,
      "outputs": []
    },
    {
      "cell_type": "code",
      "metadata": {
        "id": "UBBVEkSAoxqF",
        "colab_type": "code",
        "colab": {
          "base_uri": "https://localhost:8080/",
          "height": 83,
          "referenced_widgets": [
            "85010fdbeee64ea59719712f6bf9df7a",
            "9f6a41603aea409eac3d4fbf4bc9abd2",
            "98adfb2c26ca45cf8710c84353a0c8ca",
            "51cc28fae6ae4a5f9878152b8319659f",
            "c1a49a3873854cc7876b9c317cea4b29",
            "28b58e45593c457fa42d076049265d0e",
            "a2d7d36a913e4a0ba1ddeec86cad3716",
            "3a30c607c0d345838d8c17eddbed6f86"
          ]
        },
        "outputId": "c331e354-8b86-440d-8a31-b428efddb985"
      },
      "source": [
        "# For parquet file load \n",
        "data_dir = '/content/drive/My Drive/nflfastR-data'\n",
        "data_files = [f'{data_dir}/data/{x}' for x in os.listdir(f\"\"\"{data_dir}/data\"\"\") if x.endswith('.parquet')]\n",
        "# data_files = [x for x in data_files if int(x[-8:-4]) >= 2009]\n",
        "df = pd.DataFrame()\n",
        "for fn in tqdm(reversed(data_files)):\n",
        "  _df = pd.read_parquet(fn)\n",
        "  df= df.append(_df,ignore_index=True)\n",
        "df['ones'] = 1  \n",
        "df.shape  "
      ],
      "execution_count": 4,
      "outputs": [
        {
          "output_type": "display_data",
          "data": {
            "application/vnd.jupyter.widget-view+json": {
              "model_id": "85010fdbeee64ea59719712f6bf9df7a",
              "version_minor": 0,
              "version_major": 2
            },
            "text/plain": [
              "HBox(children=(FloatProgress(value=1.0, bar_style='info', max=1.0), HTML(value='')))"
            ]
          },
          "metadata": {
            "tags": []
          }
        },
        {
          "output_type": "stream",
          "text": [
            "\n"
          ],
          "name": "stdout"
        },
        {
          "output_type": "execute_result",
          "data": {
            "text/plain": [
              "(996549, 323)"
            ]
          },
          "metadata": {
            "tags": []
          },
          "execution_count": 4
        }
      ]
    },
    {
      "cell_type": "code",
      "metadata": {
        "id": "1PYS5kIdo0Q3",
        "colab_type": "code",
        "colab": {
          "base_uri": "https://localhost:8080/",
          "height": 34
        },
        "outputId": "757c233b-3de2-47d7-acbd-33871de39cd6"
      },
      "source": [
        "roster = pd.read_csv(f\"{data_dir}/roster-data/roster.csv\")\n",
        "roster.shape"
      ],
      "execution_count": 5,
      "outputs": [
        {
          "output_type": "execute_result",
          "data": {
            "text/plain": [
              "(56175, 28)"
            ]
          },
          "metadata": {
            "tags": []
          },
          "execution_count": 5
        }
      ]
    },
    {
      "cell_type": "markdown",
      "metadata": {
        "id": "BD-q146wpgq5",
        "colab_type": "text"
      },
      "source": [
        "# Data exploration "
      ]
    },
    {
      "cell_type": "code",
      "metadata": {
        "id": "XrpwYCPK0Lfw",
        "colab_type": "code",
        "colab": {
          "base_uri": "https://localhost:8080/",
          "height": 317
        },
        "outputId": "8e36ccc9-9f60-45f0-8712-f62273a16372"
      },
      "source": [
        "df.loc[df['pass']==1,['qb_dropback', 'qb_kneel', 'qb_spike',\n",
        "       'qb_scramble','sack','epa','success','pass','penalty']].describe()"
      ],
      "execution_count": 7,
      "outputs": [
        {
          "output_type": "execute_result",
          "data": {
            "text/html": [
              "<div>\n",
              "<style scoped>\n",
              "    .dataframe tbody tr th:only-of-type {\n",
              "        vertical-align: middle;\n",
              "    }\n",
              "\n",
              "    .dataframe tbody tr th {\n",
              "        vertical-align: top;\n",
              "    }\n",
              "\n",
              "    .dataframe thead th {\n",
              "        text-align: right;\n",
              "    }\n",
              "</style>\n",
              "<table border=\"1\" class=\"dataframe\">\n",
              "  <thead>\n",
              "    <tr style=\"text-align: right;\">\n",
              "      <th></th>\n",
              "      <th>qb_dropback</th>\n",
              "      <th>qb_kneel</th>\n",
              "      <th>qb_spike</th>\n",
              "      <th>qb_scramble</th>\n",
              "      <th>sack</th>\n",
              "      <th>epa</th>\n",
              "      <th>success</th>\n",
              "      <th>pass</th>\n",
              "      <th>penalty</th>\n",
              "    </tr>\n",
              "  </thead>\n",
              "  <tbody>\n",
              "    <tr>\n",
              "      <th>count</th>\n",
              "      <td>436075.000000</td>\n",
              "      <td>436773.000000</td>\n",
              "      <td>436773.000000</td>\n",
              "      <td>436773.000000</td>\n",
              "      <td>436075.000000</td>\n",
              "      <td>434812.000000</td>\n",
              "      <td>434812.000000</td>\n",
              "      <td>436773.0</td>\n",
              "      <td>436075.000000</td>\n",
              "    </tr>\n",
              "    <tr>\n",
              "      <th>mean</th>\n",
              "      <td>0.946622</td>\n",
              "      <td>0.000002</td>\n",
              "      <td>0.000114</td>\n",
              "      <td>0.030146</td>\n",
              "      <td>0.059068</td>\n",
              "      <td>0.043687</td>\n",
              "      <td>0.455926</td>\n",
              "      <td>1.0</td>\n",
              "      <td>0.063448</td>\n",
              "    </tr>\n",
              "    <tr>\n",
              "      <th>std</th>\n",
              "      <td>0.224787</td>\n",
              "      <td>0.001513</td>\n",
              "      <td>0.010699</td>\n",
              "      <td>0.170989</td>\n",
              "      <td>0.235752</td>\n",
              "      <td>1.576672</td>\n",
              "      <td>0.498054</td>\n",
              "      <td>0.0</td>\n",
              "      <td>0.243767</td>\n",
              "    </tr>\n",
              "    <tr>\n",
              "      <th>min</th>\n",
              "      <td>0.000000</td>\n",
              "      <td>0.000000</td>\n",
              "      <td>0.000000</td>\n",
              "      <td>0.000000</td>\n",
              "      <td>0.000000</td>\n",
              "      <td>-12.887873</td>\n",
              "      <td>0.000000</td>\n",
              "      <td>1.0</td>\n",
              "      <td>0.000000</td>\n",
              "    </tr>\n",
              "    <tr>\n",
              "      <th>25%</th>\n",
              "      <td>1.000000</td>\n",
              "      <td>0.000000</td>\n",
              "      <td>0.000000</td>\n",
              "      <td>0.000000</td>\n",
              "      <td>0.000000</td>\n",
              "      <td>-0.720068</td>\n",
              "      <td>0.000000</td>\n",
              "      <td>1.0</td>\n",
              "      <td>0.000000</td>\n",
              "    </tr>\n",
              "    <tr>\n",
              "      <th>50%</th>\n",
              "      <td>1.000000</td>\n",
              "      <td>0.000000</td>\n",
              "      <td>0.000000</td>\n",
              "      <td>0.000000</td>\n",
              "      <td>0.000000</td>\n",
              "      <td>-0.188067</td>\n",
              "      <td>0.000000</td>\n",
              "      <td>1.0</td>\n",
              "      <td>0.000000</td>\n",
              "    </tr>\n",
              "    <tr>\n",
              "      <th>75%</th>\n",
              "      <td>1.000000</td>\n",
              "      <td>0.000000</td>\n",
              "      <td>0.000000</td>\n",
              "      <td>0.000000</td>\n",
              "      <td>0.000000</td>\n",
              "      <td>0.935285</td>\n",
              "      <td>1.000000</td>\n",
              "      <td>1.0</td>\n",
              "      <td>0.000000</td>\n",
              "    </tr>\n",
              "    <tr>\n",
              "      <th>max</th>\n",
              "      <td>1.000000</td>\n",
              "      <td>1.000000</td>\n",
              "      <td>1.000000</td>\n",
              "      <td>1.000000</td>\n",
              "      <td>1.000000</td>\n",
              "      <td>9.427382</td>\n",
              "      <td>1.000000</td>\n",
              "      <td>1.0</td>\n",
              "      <td>1.000000</td>\n",
              "    </tr>\n",
              "  </tbody>\n",
              "</table>\n",
              "</div>"
            ],
            "text/plain": [
              "         qb_dropback       qb_kneel  ...      pass        penalty\n",
              "count  436075.000000  436773.000000  ...  436773.0  436075.000000\n",
              "mean        0.946622       0.000002  ...       1.0       0.063448\n",
              "std         0.224787       0.001513  ...       0.0       0.243767\n",
              "min         0.000000       0.000000  ...       1.0       0.000000\n",
              "25%         1.000000       0.000000  ...       1.0       0.000000\n",
              "50%         1.000000       0.000000  ...       1.0       0.000000\n",
              "75%         1.000000       0.000000  ...       1.0       0.000000\n",
              "max         1.000000       1.000000  ...       1.0       1.000000\n",
              "\n",
              "[8 rows x 9 columns]"
            ]
          },
          "metadata": {
            "tags": []
          },
          "execution_count": 7
        }
      ]
    },
    {
      "cell_type": "code",
      "metadata": {
        "id": "ZEU_RSsPrDw7",
        "colab_type": "code",
        "colab": {
          "base_uri": "https://localhost:8080/",
          "height": 317
        },
        "outputId": "55e8ba65-b548-4ed8-87b2-e03b5da304de"
      },
      "source": [
        "df.loc[df['qb_hit']==1,['qb_dropback', 'qb_kneel', 'qb_spike',\n",
        "       'qb_scramble','sack','epa','success','pass','penalty']].describe()"
      ],
      "execution_count": 8,
      "outputs": [
        {
          "output_type": "execute_result",
          "data": {
            "text/html": [
              "<div>\n",
              "<style scoped>\n",
              "    .dataframe tbody tr th:only-of-type {\n",
              "        vertical-align: middle;\n",
              "    }\n",
              "\n",
              "    .dataframe tbody tr th {\n",
              "        vertical-align: top;\n",
              "    }\n",
              "\n",
              "    .dataframe thead th {\n",
              "        text-align: right;\n",
              "    }\n",
              "</style>\n",
              "<table border=\"1\" class=\"dataframe\">\n",
              "  <thead>\n",
              "    <tr style=\"text-align: right;\">\n",
              "      <th></th>\n",
              "      <th>qb_dropback</th>\n",
              "      <th>qb_kneel</th>\n",
              "      <th>qb_spike</th>\n",
              "      <th>qb_scramble</th>\n",
              "      <th>sack</th>\n",
              "      <th>epa</th>\n",
              "      <th>success</th>\n",
              "      <th>pass</th>\n",
              "      <th>penalty</th>\n",
              "    </tr>\n",
              "  </thead>\n",
              "  <tbody>\n",
              "    <tr>\n",
              "      <th>count</th>\n",
              "      <td>42166.000000</td>\n",
              "      <td>42166.0</td>\n",
              "      <td>42166.0</td>\n",
              "      <td>42166.000000</td>\n",
              "      <td>42166.000000</td>\n",
              "      <td>42002.000000</td>\n",
              "      <td>42002.000000</td>\n",
              "      <td>42166.000000</td>\n",
              "      <td>42166.000000</td>\n",
              "    </tr>\n",
              "    <tr>\n",
              "      <th>mean</th>\n",
              "      <td>0.991937</td>\n",
              "      <td>0.0</td>\n",
              "      <td>0.0</td>\n",
              "      <td>0.000213</td>\n",
              "      <td>0.513281</td>\n",
              "      <td>-0.888665</td>\n",
              "      <td>0.155564</td>\n",
              "      <td>0.999763</td>\n",
              "      <td>0.026704</td>\n",
              "    </tr>\n",
              "    <tr>\n",
              "      <th>std</th>\n",
              "      <td>0.089435</td>\n",
              "      <td>0.0</td>\n",
              "      <td>0.0</td>\n",
              "      <td>0.014608</td>\n",
              "      <td>0.499830</td>\n",
              "      <td>1.492000</td>\n",
              "      <td>0.362446</td>\n",
              "      <td>0.015398</td>\n",
              "      <td>0.161219</td>\n",
              "    </tr>\n",
              "    <tr>\n",
              "      <th>min</th>\n",
              "      <td>0.000000</td>\n",
              "      <td>0.0</td>\n",
              "      <td>0.0</td>\n",
              "      <td>0.000000</td>\n",
              "      <td>0.000000</td>\n",
              "      <td>-12.126753</td>\n",
              "      <td>0.000000</td>\n",
              "      <td>0.000000</td>\n",
              "      <td>0.000000</td>\n",
              "    </tr>\n",
              "    <tr>\n",
              "      <th>25%</th>\n",
              "      <td>1.000000</td>\n",
              "      <td>0.0</td>\n",
              "      <td>0.0</td>\n",
              "      <td>0.000000</td>\n",
              "      <td>0.000000</td>\n",
              "      <td>-1.566902</td>\n",
              "      <td>0.000000</td>\n",
              "      <td>1.000000</td>\n",
              "      <td>0.000000</td>\n",
              "    </tr>\n",
              "    <tr>\n",
              "      <th>50%</th>\n",
              "      <td>1.000000</td>\n",
              "      <td>0.0</td>\n",
              "      <td>0.0</td>\n",
              "      <td>0.000000</td>\n",
              "      <td>1.000000</td>\n",
              "      <td>-1.023506</td>\n",
              "      <td>0.000000</td>\n",
              "      <td>1.000000</td>\n",
              "      <td>0.000000</td>\n",
              "    </tr>\n",
              "    <tr>\n",
              "      <th>75%</th>\n",
              "      <td>1.000000</td>\n",
              "      <td>0.0</td>\n",
              "      <td>0.0</td>\n",
              "      <td>0.000000</td>\n",
              "      <td>1.000000</td>\n",
              "      <td>-0.465126</td>\n",
              "      <td>0.000000</td>\n",
              "      <td>1.000000</td>\n",
              "      <td>0.000000</td>\n",
              "    </tr>\n",
              "    <tr>\n",
              "      <th>max</th>\n",
              "      <td>1.000000</td>\n",
              "      <td>0.0</td>\n",
              "      <td>0.0</td>\n",
              "      <td>1.000000</td>\n",
              "      <td>1.000000</td>\n",
              "      <td>8.155553</td>\n",
              "      <td>1.000000</td>\n",
              "      <td>1.000000</td>\n",
              "      <td>1.000000</td>\n",
              "    </tr>\n",
              "  </tbody>\n",
              "</table>\n",
              "</div>"
            ],
            "text/plain": [
              "        qb_dropback  qb_kneel  ...          pass       penalty\n",
              "count  42166.000000   42166.0  ...  42166.000000  42166.000000\n",
              "mean       0.991937       0.0  ...      0.999763      0.026704\n",
              "std        0.089435       0.0  ...      0.015398      0.161219\n",
              "min        0.000000       0.0  ...      0.000000      0.000000\n",
              "25%        1.000000       0.0  ...      1.000000      0.000000\n",
              "50%        1.000000       0.0  ...      1.000000      0.000000\n",
              "75%        1.000000       0.0  ...      1.000000      0.000000\n",
              "max        1.000000       0.0  ...      1.000000      1.000000\n",
              "\n",
              "[8 rows x 9 columns]"
            ]
          },
          "metadata": {
            "tags": []
          },
          "execution_count": 8
        }
      ]
    },
    {
      "cell_type": "code",
      "metadata": {
        "id": "J2_eLvRE0lxY",
        "colab_type": "code",
        "colab": {
          "base_uri": "https://localhost:8080/",
          "height": 34
        },
        "outputId": "5478ed2e-6dde-4313-e055-72b26e80fc09"
      },
      "source": [
        "hits = df.loc[(df['season']>=2006)&(df['qb_hit']==1)&(df['penalty']==0)].copy()\n",
        "hits.shape"
      ],
      "execution_count": 9,
      "outputs": [
        {
          "output_type": "execute_result",
          "data": {
            "text/plain": [
              "(34946, 323)"
            ]
          },
          "metadata": {
            "tags": []
          },
          "execution_count": 9
        }
      ]
    },
    {
      "cell_type": "code",
      "metadata": {
        "id": "463T7I_LzVp7",
        "colab_type": "code",
        "colab": {}
      },
      "source": [
        "plays_sum = df.loc[:,['season','posteam','ones']].groupby(['season','posteam'],as_index=False).sum()\n",
        "hits_sum = hits.loc[:,['season','posteam','pass','epa','sack','ones']].groupby(['season','posteam'],as_index=False).sum()\n",
        "hits_sum = hits_sum.merge(plays_sum.rename(columns={'ones':'total_plays'}))\n",
        "hits_sum['hits_per_play'] = hits_sum['ones'].div(hits_sum['total_plays'])"
      ],
      "execution_count": 10,
      "outputs": []
    },
    {
      "cell_type": "code",
      "metadata": {
        "id": "WAAjCuqz359v",
        "colab_type": "code",
        "colab": {
          "base_uri": "https://localhost:8080/",
          "height": 359
        },
        "outputId": "317534f4-f22f-4206-e764-cb6a99e886c1"
      },
      "source": [
        "hits_sum.sort_values('hits_per_play',ascending=False).head(10)"
      ],
      "execution_count": 11,
      "outputs": [
        {
          "output_type": "execute_result",
          "data": {
            "text/html": [
              "<div>\n",
              "<style scoped>\n",
              "    .dataframe tbody tr th:only-of-type {\n",
              "        vertical-align: middle;\n",
              "    }\n",
              "\n",
              "    .dataframe tbody tr th {\n",
              "        vertical-align: top;\n",
              "    }\n",
              "\n",
              "    .dataframe thead th {\n",
              "        text-align: right;\n",
              "    }\n",
              "</style>\n",
              "<table border=\"1\" class=\"dataframe\">\n",
              "  <thead>\n",
              "    <tr style=\"text-align: right;\">\n",
              "      <th></th>\n",
              "      <th>season</th>\n",
              "      <th>posteam</th>\n",
              "      <th>pass</th>\n",
              "      <th>epa</th>\n",
              "      <th>sack</th>\n",
              "      <th>ones</th>\n",
              "      <th>total_plays</th>\n",
              "      <th>hits_per_play</th>\n",
              "    </tr>\n",
              "  </thead>\n",
              "  <tbody>\n",
              "    <tr>\n",
              "      <th>435</th>\n",
              "      <td>2019</td>\n",
              "      <td>MIA</td>\n",
              "      <td>144.0</td>\n",
              "      <td>-95.445272</td>\n",
              "      <td>56.0</td>\n",
              "      <td>144</td>\n",
              "      <td>1334</td>\n",
              "      <td>0.107946</td>\n",
              "    </tr>\n",
              "    <tr>\n",
              "      <th>327</th>\n",
              "      <td>2016</td>\n",
              "      <td>CLE</td>\n",
              "      <td>127.0</td>\n",
              "      <td>-85.284393</td>\n",
              "      <td>58.0</td>\n",
              "      <td>127</td>\n",
              "      <td>1285</td>\n",
              "      <td>0.098833</td>\n",
              "    </tr>\n",
              "    <tr>\n",
              "      <th>285</th>\n",
              "      <td>2014</td>\n",
              "      <td>TB</td>\n",
              "      <td>121.0</td>\n",
              "      <td>-95.590278</td>\n",
              "      <td>46.0</td>\n",
              "      <td>121</td>\n",
              "      <td>1242</td>\n",
              "      <td>0.097424</td>\n",
              "    </tr>\n",
              "    <tr>\n",
              "      <th>359</th>\n",
              "      <td>2017</td>\n",
              "      <td>CLE</td>\n",
              "      <td>122.0</td>\n",
              "      <td>-106.130815</td>\n",
              "      <td>46.0</td>\n",
              "      <td>122</td>\n",
              "      <td>1304</td>\n",
              "      <td>0.093558</td>\n",
              "    </tr>\n",
              "    <tr>\n",
              "      <th>417</th>\n",
              "      <td>2019</td>\n",
              "      <td>ATL</td>\n",
              "      <td>132.0</td>\n",
              "      <td>-96.173008</td>\n",
              "      <td>49.0</td>\n",
              "      <td>132</td>\n",
              "      <td>1419</td>\n",
              "      <td>0.093023</td>\n",
              "    </tr>\n",
              "    <tr>\n",
              "      <th>396</th>\n",
              "      <td>2018</td>\n",
              "      <td>HOU</td>\n",
              "      <td>131.0</td>\n",
              "      <td>-126.351211</td>\n",
              "      <td>63.0</td>\n",
              "      <td>131</td>\n",
              "      <td>1433</td>\n",
              "      <td>0.091417</td>\n",
              "    </tr>\n",
              "    <tr>\n",
              "      <th>333</th>\n",
              "      <td>2016</td>\n",
              "      <td>IND</td>\n",
              "      <td>124.0</td>\n",
              "      <td>-75.471080</td>\n",
              "      <td>42.0</td>\n",
              "      <td>124</td>\n",
              "      <td>1360</td>\n",
              "      <td>0.091176</td>\n",
              "    </tr>\n",
              "    <tr>\n",
              "      <th>270</th>\n",
              "      <td>2014</td>\n",
              "      <td>JAX</td>\n",
              "      <td>116.0</td>\n",
              "      <td>-129.404161</td>\n",
              "      <td>67.0</td>\n",
              "      <td>116</td>\n",
              "      <td>1298</td>\n",
              "      <td>0.089368</td>\n",
              "    </tr>\n",
              "    <tr>\n",
              "      <th>412</th>\n",
              "      <td>2018</td>\n",
              "      <td>SF</td>\n",
              "      <td>117.0</td>\n",
              "      <td>-82.673146</td>\n",
              "      <td>44.0</td>\n",
              "      <td>117</td>\n",
              "      <td>1314</td>\n",
              "      <td>0.089041</td>\n",
              "    </tr>\n",
              "    <tr>\n",
              "      <th>403</th>\n",
              "      <td>2018</td>\n",
              "      <td>MIA</td>\n",
              "      <td>105.0</td>\n",
              "      <td>-97.981621</td>\n",
              "      <td>52.0</td>\n",
              "      <td>105</td>\n",
              "      <td>1181</td>\n",
              "      <td>0.088908</td>\n",
              "    </tr>\n",
              "  </tbody>\n",
              "</table>\n",
              "</div>"
            ],
            "text/plain": [
              "     season posteam   pass         epa  sack  ones  total_plays  hits_per_play\n",
              "435    2019     MIA  144.0  -95.445272  56.0   144         1334       0.107946\n",
              "327    2016     CLE  127.0  -85.284393  58.0   127         1285       0.098833\n",
              "285    2014      TB  121.0  -95.590278  46.0   121         1242       0.097424\n",
              "359    2017     CLE  122.0 -106.130815  46.0   122         1304       0.093558\n",
              "417    2019     ATL  132.0  -96.173008  49.0   132         1419       0.093023\n",
              "396    2018     HOU  131.0 -126.351211  63.0   131         1433       0.091417\n",
              "333    2016     IND  124.0  -75.471080  42.0   124         1360       0.091176\n",
              "270    2014     JAX  116.0 -129.404161  67.0   116         1298       0.089368\n",
              "412    2018      SF  117.0  -82.673146  44.0   117         1314       0.089041\n",
              "403    2018     MIA  105.0  -97.981621  52.0   105         1181       0.088908"
            ]
          },
          "metadata": {
            "tags": []
          },
          "execution_count": 11
        }
      ]
    },
    {
      "cell_type": "code",
      "metadata": {
        "id": "ubiHksR81eWm",
        "colab_type": "code",
        "colab": {
          "base_uri": "https://localhost:8080/",
          "height": 359
        },
        "outputId": "b26e8a86-b403-4675-9bf4-3c2ad34e0406"
      },
      "source": [
        "hits_sum.sort_values('ones',ascending=False).tail(10)"
      ],
      "execution_count": 12,
      "outputs": [
        {
          "output_type": "execute_result",
          "data": {
            "text/html": [
              "<div>\n",
              "<style scoped>\n",
              "    .dataframe tbody tr th:only-of-type {\n",
              "        vertical-align: middle;\n",
              "    }\n",
              "\n",
              "    .dataframe tbody tr th {\n",
              "        vertical-align: top;\n",
              "    }\n",
              "\n",
              "    .dataframe thead th {\n",
              "        text-align: right;\n",
              "    }\n",
              "</style>\n",
              "<table border=\"1\" class=\"dataframe\">\n",
              "  <thead>\n",
              "    <tr style=\"text-align: right;\">\n",
              "      <th></th>\n",
              "      <th>season</th>\n",
              "      <th>posteam</th>\n",
              "      <th>pass</th>\n",
              "      <th>epa</th>\n",
              "      <th>sack</th>\n",
              "      <th>ones</th>\n",
              "      <th>total_plays</th>\n",
              "      <th>hits_per_play</th>\n",
              "    </tr>\n",
              "  </thead>\n",
              "  <tbody>\n",
              "    <tr>\n",
              "      <th>158</th>\n",
              "      <td>2010</td>\n",
              "      <td>TEN</td>\n",
              "      <td>41.0</td>\n",
              "      <td>-42.844159</td>\n",
              "      <td>21.0</td>\n",
              "      <td>41</td>\n",
              "      <td>1269</td>\n",
              "      <td>0.032309</td>\n",
              "    </tr>\n",
              "    <tr>\n",
              "      <th>36</th>\n",
              "      <td>2007</td>\n",
              "      <td>CAR</td>\n",
              "      <td>41.0</td>\n",
              "      <td>-49.707616</td>\n",
              "      <td>27.0</td>\n",
              "      <td>41</td>\n",
              "      <td>1331</td>\n",
              "      <td>0.030804</td>\n",
              "    </tr>\n",
              "    <tr>\n",
              "      <th>338</th>\n",
              "      <td>2016</td>\n",
              "      <td>LV</td>\n",
              "      <td>41.0</td>\n",
              "      <td>-37.375262</td>\n",
              "      <td>19.0</td>\n",
              "      <td>41</td>\n",
              "      <td>1494</td>\n",
              "      <td>0.027443</td>\n",
              "    </tr>\n",
              "    <tr>\n",
              "      <th>126</th>\n",
              "      <td>2009</td>\n",
              "      <td>TEN</td>\n",
              "      <td>40.0</td>\n",
              "      <td>-39.881089</td>\n",
              "      <td>12.0</td>\n",
              "      <td>40</td>\n",
              "      <td>1317</td>\n",
              "      <td>0.030372</td>\n",
              "    </tr>\n",
              "    <tr>\n",
              "      <th>94</th>\n",
              "      <td>2008</td>\n",
              "      <td>TEN</td>\n",
              "      <td>39.0</td>\n",
              "      <td>-28.748698</td>\n",
              "      <td>8.0</td>\n",
              "      <td>39</td>\n",
              "      <td>1390</td>\n",
              "      <td>0.028058</td>\n",
              "    </tr>\n",
              "    <tr>\n",
              "      <th>39</th>\n",
              "      <td>2007</td>\n",
              "      <td>CLE</td>\n",
              "      <td>39.0</td>\n",
              "      <td>-32.216188</td>\n",
              "      <td>17.0</td>\n",
              "      <td>39</td>\n",
              "      <td>1365</td>\n",
              "      <td>0.028571</td>\n",
              "    </tr>\n",
              "    <tr>\n",
              "      <th>65</th>\n",
              "      <td>2008</td>\n",
              "      <td>ATL</td>\n",
              "      <td>38.0</td>\n",
              "      <td>-31.164159</td>\n",
              "      <td>17.0</td>\n",
              "      <td>38</td>\n",
              "      <td>1432</td>\n",
              "      <td>0.026536</td>\n",
              "    </tr>\n",
              "    <tr>\n",
              "      <th>54</th>\n",
              "      <td>2007</td>\n",
              "      <td>NO</td>\n",
              "      <td>36.0</td>\n",
              "      <td>-30.132779</td>\n",
              "      <td>7.0</td>\n",
              "      <td>36</td>\n",
              "      <td>1407</td>\n",
              "      <td>0.025586</td>\n",
              "    </tr>\n",
              "    <tr>\n",
              "      <th>68</th>\n",
              "      <td>2008</td>\n",
              "      <td>CAR</td>\n",
              "      <td>35.0</td>\n",
              "      <td>-26.062936</td>\n",
              "      <td>17.0</td>\n",
              "      <td>35</td>\n",
              "      <td>1361</td>\n",
              "      <td>0.025716</td>\n",
              "    </tr>\n",
              "    <tr>\n",
              "      <th>73</th>\n",
              "      <td>2008</td>\n",
              "      <td>DEN</td>\n",
              "      <td>18.0</td>\n",
              "      <td>-13.773149</td>\n",
              "      <td>11.0</td>\n",
              "      <td>18</td>\n",
              "      <td>1340</td>\n",
              "      <td>0.013433</td>\n",
              "    </tr>\n",
              "  </tbody>\n",
              "</table>\n",
              "</div>"
            ],
            "text/plain": [
              "     season posteam  pass        epa  sack  ones  total_plays  hits_per_play\n",
              "158    2010     TEN  41.0 -42.844159  21.0    41         1269       0.032309\n",
              "36     2007     CAR  41.0 -49.707616  27.0    41         1331       0.030804\n",
              "338    2016      LV  41.0 -37.375262  19.0    41         1494       0.027443\n",
              "126    2009     TEN  40.0 -39.881089  12.0    40         1317       0.030372\n",
              "94     2008     TEN  39.0 -28.748698   8.0    39         1390       0.028058\n",
              "39     2007     CLE  39.0 -32.216188  17.0    39         1365       0.028571\n",
              "65     2008     ATL  38.0 -31.164159  17.0    38         1432       0.026536\n",
              "54     2007      NO  36.0 -30.132779   7.0    36         1407       0.025586\n",
              "68     2008     CAR  35.0 -26.062936  17.0    35         1361       0.025716\n",
              "73     2008     DEN  18.0 -13.773149  11.0    18         1340       0.013433"
            ]
          },
          "metadata": {
            "tags": []
          },
          "execution_count": 12
        }
      ]
    },
    {
      "cell_type": "code",
      "metadata": {
        "id": "pJ5JWL0e4hzP",
        "colab_type": "code",
        "colab": {
          "base_uri": "https://localhost:8080/",
          "height": 296
        },
        "outputId": "67c51d10-befe-4140-dc02-d4b6e23166de"
      },
      "source": [
        "sns.regplot(x='hits_per_play',y='epa',data=hits_sum)\n",
        "sns.despine()\n",
        "plt.title('just hits, nothing else')\n",
        "plt.show()"
      ],
      "execution_count": 13,
      "outputs": [
        {
          "output_type": "display_data",
          "data": {
            "image/png": "[encoded data removed]",
            "text/plain": [
              "<Figure size 432x288 with 1 Axes>"
            ]
          },
          "metadata": {
            "tags": [],
            "needs_background": "light"
          }
        }
      ]
    },
    {
      "cell_type": "code",
      "metadata": {
        "id": "hbdml1pM-BZ-",
        "colab_type": "code",
        "colab": {}
      },
      "source": [
        "hits_pos = df.loc[df['pass']==1,['season','posteam','epa']].groupby(['season','posteam'],as_index=False).sum().merge(hits_sum.loc[:,['season','posteam','hits_per_play']])"
      ],
      "execution_count": 14,
      "outputs": []
    },
    {
      "cell_type": "code",
      "metadata": {
        "id": "LPh6to58_D0l",
        "colab_type": "code",
        "colab": {
          "base_uri": "https://localhost:8080/",
          "height": 296
        },
        "outputId": "f65a962f-a370-4a61-e1ac-ba8c43e73686"
      },
      "source": [
        "sns.regplot(x='hits_per_play',y='epa',data=hits_pos)\n",
        "sns.despine()\n",
        "plt.title('hits per play, passes only')\n",
        "plt.show()"
      ],
      "execution_count": 15,
      "outputs": [
        {
          "output_type": "display_data",
          "data": {
            "image/png": "[encoded data removed]",
            "text/plain": [
              "<Figure size 432x288 with 1 Axes>"
            ]
          },
          "metadata": {
            "tags": [],
            "needs_background": "light"
          }
        }
      ]
    },
    {
      "cell_type": "code",
      "metadata": {
        "id": "WVRTUd7pE-rx",
        "colab_type": "code",
        "colab": {
          "base_uri": "https://localhost:8080/",
          "height": 419
        },
        "outputId": "fb499279-410a-4814-9994-55bf153f0782"
      },
      "source": [
        "df.loc[df['pass']==1,['season','posteam','defteam','epa']].groupby(['season','posteam','defteam'],as_index=False).sum()"
      ],
      "execution_count": 16,
      "outputs": [
        {
          "output_type": "execute_result",
          "data": {
            "text/html": [
              "<div>\n",
              "<style scoped>\n",
              "    .dataframe tbody tr th:only-of-type {\n",
              "        vertical-align: middle;\n",
              "    }\n",
              "\n",
              "    .dataframe tbody tr th {\n",
              "        vertical-align: top;\n",
              "    }\n",
              "\n",
              "    .dataframe thead th {\n",
              "        text-align: right;\n",
              "    }\n",
              "</style>\n",
              "<table border=\"1\" class=\"dataframe\">\n",
              "  <thead>\n",
              "    <tr style=\"text-align: right;\">\n",
              "      <th></th>\n",
              "      <th>season</th>\n",
              "      <th>posteam</th>\n",
              "      <th>defteam</th>\n",
              "      <th>epa</th>\n",
              "    </tr>\n",
              "  </thead>\n",
              "  <tbody>\n",
              "    <tr>\n",
              "      <th>0</th>\n",
              "      <td>1999</td>\n",
              "      <td>ARI</td>\n",
              "      <td>ATL</td>\n",
              "      <td>-8.013808</td>\n",
              "    </tr>\n",
              "    <tr>\n",
              "      <th>1</th>\n",
              "      <td>1999</td>\n",
              "      <td>ARI</td>\n",
              "      <td>BUF</td>\n",
              "      <td>-1.418533</td>\n",
              "    </tr>\n",
              "    <tr>\n",
              "      <th>2</th>\n",
              "      <td>1999</td>\n",
              "      <td>ARI</td>\n",
              "      <td>DAL</td>\n",
              "      <td>-18.215727</td>\n",
              "    </tr>\n",
              "    <tr>\n",
              "      <th>3</th>\n",
              "      <td>1999</td>\n",
              "      <td>ARI</td>\n",
              "      <td>DET</td>\n",
              "      <td>0.411669</td>\n",
              "    </tr>\n",
              "    <tr>\n",
              "      <th>4</th>\n",
              "      <td>1999</td>\n",
              "      <td>ARI</td>\n",
              "      <td>GB</td>\n",
              "      <td>6.101999</td>\n",
              "    </tr>\n",
              "    <tr>\n",
              "      <th>...</th>\n",
              "      <td>...</td>\n",
              "      <td>...</td>\n",
              "      <td>...</td>\n",
              "      <td>...</td>\n",
              "    </tr>\n",
              "    <tr>\n",
              "      <th>8779</th>\n",
              "      <td>2019</td>\n",
              "      <td>WAS</td>\n",
              "      <td>NE</td>\n",
              "      <td>-24.504900</td>\n",
              "    </tr>\n",
              "    <tr>\n",
              "      <th>8780</th>\n",
              "      <td>2019</td>\n",
              "      <td>WAS</td>\n",
              "      <td>NYG</td>\n",
              "      <td>0.569430</td>\n",
              "    </tr>\n",
              "    <tr>\n",
              "      <th>8781</th>\n",
              "      <td>2019</td>\n",
              "      <td>WAS</td>\n",
              "      <td>NYJ</td>\n",
              "      <td>-13.043349</td>\n",
              "    </tr>\n",
              "    <tr>\n",
              "      <th>8782</th>\n",
              "      <td>2019</td>\n",
              "      <td>WAS</td>\n",
              "      <td>PHI</td>\n",
              "      <td>22.623459</td>\n",
              "    </tr>\n",
              "    <tr>\n",
              "      <th>8783</th>\n",
              "      <td>2019</td>\n",
              "      <td>WAS</td>\n",
              "      <td>SF</td>\n",
              "      <td>1.383793</td>\n",
              "    </tr>\n",
              "  </tbody>\n",
              "</table>\n",
              "<p>8784 rows × 4 columns</p>\n",
              "</div>"
            ],
            "text/plain": [
              "      season posteam defteam        epa\n",
              "0       1999     ARI     ATL  -8.013808\n",
              "1       1999     ARI     BUF  -1.418533\n",
              "2       1999     ARI     DAL -18.215727\n",
              "3       1999     ARI     DET   0.411669\n",
              "4       1999     ARI      GB   6.101999\n",
              "...      ...     ...     ...        ...\n",
              "8779    2019     WAS      NE -24.504900\n",
              "8780    2019     WAS     NYG   0.569430\n",
              "8781    2019     WAS     NYJ -13.043349\n",
              "8782    2019     WAS     PHI  22.623459\n",
              "8783    2019     WAS      SF   1.383793\n",
              "\n",
              "[8784 rows x 4 columns]"
            ]
          },
          "metadata": {
            "tags": []
          },
          "execution_count": 16
        }
      ]
    },
    {
      "cell_type": "code",
      "metadata": {
        "id": "xZtbVf30A7Ow",
        "colab_type": "code",
        "colab": {}
      },
      "source": [
        "plays_sum = df.loc[:,['season','defteam','ones']].groupby(['season','defteam'],as_index=False).sum()\n",
        "hits_sum = hits.loc[:,['season','defteam','pass','epa','sack','ones']].groupby(['season','defteam'],as_index=False).sum()\n",
        "hits_sum = hits_sum.merge(plays_sum.rename(columns={'ones':'total_plays'}))\n",
        "hits_sum['hits_per_play'] = hits_sum['ones'].div(hits_sum['total_plays'])\n",
        "hits_def = df.loc[df['pass']==1,['season','defteam','epa']].groupby(['season','defteam'],as_index=False).sum().merge(hits_sum.loc[:,['season','defteam','hits_per_play']])"
      ],
      "execution_count": 17,
      "outputs": []
    },
    {
      "cell_type": "code",
      "metadata": {
        "id": "rQEYVVIqFbon",
        "colab_type": "code",
        "colab": {
          "base_uri": "https://localhost:8080/",
          "height": 296
        },
        "outputId": "2f43af4a-330c-4de0-a044-891536076720"
      },
      "source": [
        "sns.regplot(x='hits_per_play',y='epa',data=hits_def)\n",
        "sns.despine()\n",
        "plt.title('hits per play, defense POV, passes only')\n",
        "plt.show()"
      ],
      "execution_count": 18,
      "outputs": [
        {
          "output_type": "display_data",
          "data": {
            "image/png": "[encoded data removed]",
            "text/plain": [
              "<Figure size 432x288 with 1 Axes>"
            ]
          },
          "metadata": {
            "tags": [],
            "needs_background": "light"
          }
        }
      ]
    },
    {
      "cell_type": "code",
      "metadata": {
        "id": "AP_CLTq0F9ao",
        "colab_type": "code",
        "colab": {
          "base_uri": "https://localhost:8080/",
          "height": 359
        },
        "outputId": "c4840b27-4663-4697-a4db-89ef2ffcab21"
      },
      "source": [
        "hits_def.sort_values('hits_per_play',ascending=False).head(10)"
      ],
      "execution_count": 19,
      "outputs": [
        {
          "output_type": "execute_result",
          "data": {
            "text/html": [
              "<div>\n",
              "<style scoped>\n",
              "    .dataframe tbody tr th:only-of-type {\n",
              "        vertical-align: middle;\n",
              "    }\n",
              "\n",
              "    .dataframe tbody tr th {\n",
              "        vertical-align: top;\n",
              "    }\n",
              "\n",
              "    .dataframe thead th {\n",
              "        text-align: right;\n",
              "    }\n",
              "</style>\n",
              "<table border=\"1\" class=\"dataframe\">\n",
              "  <thead>\n",
              "    <tr style=\"text-align: right;\">\n",
              "      <th></th>\n",
              "      <th>season</th>\n",
              "      <th>defteam</th>\n",
              "      <th>epa</th>\n",
              "      <th>hits_per_play</th>\n",
              "    </tr>\n",
              "  </thead>\n",
              "  <tbody>\n",
              "    <tr>\n",
              "      <th>409</th>\n",
              "      <td>2018</td>\n",
              "      <td>PHI</td>\n",
              "      <td>78.699354</td>\n",
              "      <td>0.088980</td>\n",
              "    </tr>\n",
              "    <tr>\n",
              "      <th>377</th>\n",
              "      <td>2017</td>\n",
              "      <td>PHI</td>\n",
              "      <td>-37.390073</td>\n",
              "      <td>0.087240</td>\n",
              "    </tr>\n",
              "    <tr>\n",
              "      <th>266</th>\n",
              "      <td>2014</td>\n",
              "      <td>DET</td>\n",
              "      <td>15.555503</td>\n",
              "      <td>0.087052</td>\n",
              "    </tr>\n",
              "    <tr>\n",
              "      <th>297</th>\n",
              "      <td>2015</td>\n",
              "      <td>DEN</td>\n",
              "      <td>-78.961203</td>\n",
              "      <td>0.085871</td>\n",
              "    </tr>\n",
              "    <tr>\n",
              "      <th>340</th>\n",
              "      <td>2016</td>\n",
              "      <td>MIN</td>\n",
              "      <td>1.669949</td>\n",
              "      <td>0.085870</td>\n",
              "    </tr>\n",
              "    <tr>\n",
              "      <th>442</th>\n",
              "      <td>2019</td>\n",
              "      <td>PIT</td>\n",
              "      <td>-44.599828</td>\n",
              "      <td>0.082202</td>\n",
              "    </tr>\n",
              "    <tr>\n",
              "      <th>292</th>\n",
              "      <td>2015</td>\n",
              "      <td>CAR</td>\n",
              "      <td>-92.358628</td>\n",
              "      <td>0.081710</td>\n",
              "    </tr>\n",
              "    <tr>\n",
              "      <th>312</th>\n",
              "      <td>2015</td>\n",
              "      <td>NYJ</td>\n",
              "      <td>-18.047068</td>\n",
              "      <td>0.081369</td>\n",
              "    </tr>\n",
              "    <tr>\n",
              "      <th>410</th>\n",
              "      <td>2018</td>\n",
              "      <td>PIT</td>\n",
              "      <td>64.700220</td>\n",
              "      <td>0.081307</td>\n",
              "    </tr>\n",
              "    <tr>\n",
              "      <th>258</th>\n",
              "      <td>2014</td>\n",
              "      <td>BAL</td>\n",
              "      <td>71.134661</td>\n",
              "      <td>0.081205</td>\n",
              "    </tr>\n",
              "  </tbody>\n",
              "</table>\n",
              "</div>"
            ],
            "text/plain": [
              "     season defteam        epa  hits_per_play\n",
              "409    2018     PHI  78.699354       0.088980\n",
              "377    2017     PHI -37.390073       0.087240\n",
              "266    2014     DET  15.555503       0.087052\n",
              "297    2015     DEN -78.961203       0.085871\n",
              "340    2016     MIN   1.669949       0.085870\n",
              "442    2019     PIT -44.599828       0.082202\n",
              "292    2015     CAR -92.358628       0.081710\n",
              "312    2015     NYJ -18.047068       0.081369\n",
              "410    2018     PIT  64.700220       0.081307\n",
              "258    2014     BAL  71.134661       0.081205"
            ]
          },
          "metadata": {
            "tags": []
          },
          "execution_count": 19
        }
      ]
    },
    {
      "cell_type": "code",
      "metadata": {
        "id": "gwVaMWBnGB2z",
        "colab_type": "code",
        "colab": {
          "base_uri": "https://localhost:8080/",
          "height": 359
        },
        "outputId": "2bb84dc1-a30f-490f-d48e-83db79c0db6d"
      },
      "source": [
        "hits_def.sort_values('hits_per_play',ascending=False).tail(10)"
      ],
      "execution_count": 20,
      "outputs": [
        {
          "output_type": "execute_result",
          "data": {
            "text/html": [
              "<div>\n",
              "<style scoped>\n",
              "    .dataframe tbody tr th:only-of-type {\n",
              "        vertical-align: middle;\n",
              "    }\n",
              "\n",
              "    .dataframe tbody tr th {\n",
              "        vertical-align: top;\n",
              "    }\n",
              "\n",
              "    .dataframe thead th {\n",
              "        text-align: right;\n",
              "    }\n",
              "</style>\n",
              "<table border=\"1\" class=\"dataframe\">\n",
              "  <thead>\n",
              "    <tr style=\"text-align: right;\">\n",
              "      <th></th>\n",
              "      <th>season</th>\n",
              "      <th>defteam</th>\n",
              "      <th>epa</th>\n",
              "      <th>hits_per_play</th>\n",
              "    </tr>\n",
              "  </thead>\n",
              "  <tbody>\n",
              "    <tr>\n",
              "      <th>36</th>\n",
              "      <td>2007</td>\n",
              "      <td>CAR</td>\n",
              "      <td>36.324696</td>\n",
              "      <td>0.031025</td>\n",
              "    </tr>\n",
              "    <tr>\n",
              "      <th>31</th>\n",
              "      <td>2006</td>\n",
              "      <td>WAS</td>\n",
              "      <td>130.523486</td>\n",
              "      <td>0.030928</td>\n",
              "    </tr>\n",
              "    <tr>\n",
              "      <th>73</th>\n",
              "      <td>2008</td>\n",
              "      <td>DEN</td>\n",
              "      <td>126.259984</td>\n",
              "      <td>0.028223</td>\n",
              "    </tr>\n",
              "    <tr>\n",
              "      <th>41</th>\n",
              "      <td>2007</td>\n",
              "      <td>DEN</td>\n",
              "      <td>76.280854</td>\n",
              "      <td>0.028116</td>\n",
              "    </tr>\n",
              "    <tr>\n",
              "      <th>50</th>\n",
              "      <td>2007</td>\n",
              "      <td>LV</td>\n",
              "      <td>0.822578</td>\n",
              "      <td>0.027799</td>\n",
              "    </tr>\n",
              "    <tr>\n",
              "      <th>111</th>\n",
              "      <td>2009</td>\n",
              "      <td>KC</td>\n",
              "      <td>27.801211</td>\n",
              "      <td>0.027679</td>\n",
              "    </tr>\n",
              "    <tr>\n",
              "      <th>81</th>\n",
              "      <td>2008</td>\n",
              "      <td>LAC</td>\n",
              "      <td>78.916401</td>\n",
              "      <td>0.025933</td>\n",
              "    </tr>\n",
              "    <tr>\n",
              "      <th>82</th>\n",
              "      <td>2008</td>\n",
              "      <td>LV</td>\n",
              "      <td>46.715598</td>\n",
              "      <td>0.025788</td>\n",
              "    </tr>\n",
              "    <tr>\n",
              "      <th>33</th>\n",
              "      <td>2007</td>\n",
              "      <td>ATL</td>\n",
              "      <td>39.515533</td>\n",
              "      <td>0.024566</td>\n",
              "    </tr>\n",
              "    <tr>\n",
              "      <th>79</th>\n",
              "      <td>2008</td>\n",
              "      <td>KC</td>\n",
              "      <td>71.487209</td>\n",
              "      <td>0.018992</td>\n",
              "    </tr>\n",
              "  </tbody>\n",
              "</table>\n",
              "</div>"
            ],
            "text/plain": [
              "     season defteam         epa  hits_per_play\n",
              "36     2007     CAR   36.324696       0.031025\n",
              "31     2006     WAS  130.523486       0.030928\n",
              "73     2008     DEN  126.259984       0.028223\n",
              "41     2007     DEN   76.280854       0.028116\n",
              "50     2007      LV    0.822578       0.027799\n",
              "111    2009      KC   27.801211       0.027679\n",
              "81     2008     LAC   78.916401       0.025933\n",
              "82     2008      LV   46.715598       0.025788\n",
              "33     2007     ATL   39.515533       0.024566\n",
              "79     2008      KC   71.487209       0.018992"
            ]
          },
          "metadata": {
            "tags": []
          },
          "execution_count": 20
        }
      ]
    },
    {
      "cell_type": "code",
      "metadata": {
        "id": "9BHurfrlIK7t",
        "colab_type": "code",
        "colab": {
          "base_uri": "https://localhost:8080/",
          "height": 34
        },
        "outputId": "0dc46541-0789-4442-d234-f7f1f7616d1d"
      },
      "source": [
        "model_data = (df\n",
        "              .loc[(df['pass']==1)&\n",
        "                   (df['penalty']==0)&\n",
        "                   (df['season']>=2006),\n",
        "                   ['game_id','season','posteam',\n",
        "                    'defteam','epa','qb_hit','ones']]\n",
        "              .groupby(['game_id','season','posteam','defteam'],\n",
        "                       as_index=False)\n",
        "              .sum())\n",
        "model_data.shape"
      ],
      "execution_count": 21,
      "outputs": [
        {
          "output_type": "execute_result",
          "data": {
            "text/plain": [
              "(7476, 7)"
            ]
          },
          "metadata": {
            "tags": []
          },
          "execution_count": 21
        }
      ]
    },
    {
      "cell_type": "code",
      "metadata": {
        "id": "W_kcJsx9J3SY",
        "colab_type": "code",
        "colab": {}
      },
      "source": [
        "model_data['game_hits_per_play'] = model_data['qb_hit'].div(model_data['ones'])"
      ],
      "execution_count": 22,
      "outputs": []
    },
    {
      "cell_type": "code",
      "metadata": {
        "id": "ClMV7fJbK2g2",
        "colab_type": "code",
        "colab": {}
      },
      "source": [
        "model_data = (model_data\n",
        "              .merge(hits_pos\n",
        "                     .loc[:,['season','posteam','hits_per_play']]\n",
        "                     .rename(columns={'hits_per_play':'pos_hits_per_play'}))\n",
        "              .merge(hits_def\n",
        "                     .loc[:,['season','defteam','hits_per_play']]\n",
        "                     .rename(columns={'hits_per_play':'def_hits_per_play'})))"
      ],
      "execution_count": 23,
      "outputs": []
    },
    {
      "cell_type": "code",
      "metadata": {
        "id": "VC1zud1-N2ct",
        "colab_type": "code",
        "colab": {}
      },
      "source": [
        "model_feats = ['pos_hits_per_play', 'def_hits_per_play']\n",
        "target = 'game_hits_per_play'"
      ],
      "execution_count": 24,
      "outputs": []
    },
    {
      "cell_type": "code",
      "metadata": {
        "id": "SPYvvKxSNxT2",
        "colab_type": "code",
        "colab": {}
      },
      "source": [
        "df_pred = pd.DataFrame()\n",
        "kf = KFold(10,shuffle=True)\n",
        "for train_idx, test_idx in kf.split(model_data):\n",
        "  train_data = model_data.iloc[train_idx]\n",
        "  test_data = model_data.iloc[test_idx]\n",
        "\n",
        "  model = LinearRegression()\n",
        "  model.fit(train_data.loc[:,model_feats],train_data.loc[:,target])\n",
        "  test_data[f\"{target}_pred\"] = pd.Series(model.predict(test_data.loc[:,model_feats]), index=test_data.index)\n",
        "  df_pred = df_pred.append(test_data)"
      ],
      "execution_count": null,
      "outputs": []
    },
    {
      "cell_type": "code",
      "metadata": {
        "id": "mYWPhimlSzcG",
        "colab_type": "code",
        "colab": {
          "base_uri": "https://localhost:8080/",
          "height": 341
        },
        "outputId": "4f9bf583-c062-4369-8a4e-b226a744b90c"
      },
      "source": [
        "rmse = mean_squared_error(df_pred[target],df_pred[f\"{target}_pred\"])**0.5\n",
        "r2 = pearsonr(df_pred[target],df_pred[f\"{target}_pred\"])[0]**2\n",
        "\n",
        "f = sns.regplot(target,f\"{target}_pred\",data=df_pred)\n",
        "xlim = f.get_xlim()\n",
        "ylim = f.get_ylim()\n",
        "plt.plot([0,1],[0,1],\"k:\")\n",
        "f.set_xlim(xlim)\n",
        "f.set_ylim(ylim)\n",
        "plt.title(f\"\"\"actual vs pred\\nRMSE: {round(rmse,3)}\\nR2 {round(r2,3)}\\n\"\"\")\n",
        "sns.despine()\n",
        "plt.show()"
      ],
      "execution_count": 26,
      "outputs": [
        {
          "output_type": "display_data",
          "data": {
            "image/png": "[encoded data removed]",
            "text/plain": [
              "<Figure size 432x288 with 1 Axes>"
            ]
          },
          "metadata": {
            "tags": [],
            "needs_background": "light"
          }
        }
      ]
    },
    {
      "cell_type": "code",
      "metadata": {
        "id": "U7JP-cmNUt1w",
        "colab_type": "code",
        "colab": {}
      },
      "source": [
        "model_feats = ['pos_hits_per_play', 'def_hits_per_play']\n",
        "target = 'epa'\n",
        "\n",
        "df_pred = pd.DataFrame()\n",
        "kf = KFold(10,shuffle=True)\n",
        "for train_idx, test_idx in kf.split(model_data):\n",
        "  train_data = model_data.iloc[train_idx]\n",
        "  test_data = model_data.iloc[test_idx]\n",
        "\n",
        "  model = LinearRegression()\n",
        "  model.fit(train_data.loc[:,model_feats],train_data.loc[:,target])\n",
        "  test_data[f\"{target}_pred\"] = pd.Series(model.predict(test_data.loc[:,model_feats]), index=test_data.index)\n",
        "  df_pred = df_pred.append(test_data)"
      ],
      "execution_count": null,
      "outputs": []
    },
    {
      "cell_type": "code",
      "metadata": {
        "id": "aOoTZlEfVIhz",
        "colab_type": "code",
        "colab": {
          "base_uri": "https://localhost:8080/",
          "height": 340
        },
        "outputId": "8e6f56d9-8273-44cc-b149-88e05288b23a"
      },
      "source": [
        "rmse = mean_squared_error(df_pred[target],df_pred[f\"{target}_pred\"])**0.5\n",
        "r2 = pearsonr(df_pred[target],df_pred[f\"{target}_pred\"])[0]**2\n",
        "\n",
        "f = sns.regplot(target,f\"{target}_pred\",data=df_pred)\n",
        "xlim = f.get_xlim()\n",
        "ylim = f.get_ylim()\n",
        "plt.plot([-100,100],[-100,100],\"k:\")\n",
        "f.set_xlim(xlim)\n",
        "f.set_ylim(ylim)\n",
        "plt.title(f\"\"\"actual vs pred\\nRMSE: {round(rmse,3)}\\nR2 {round(r2,3)}\\n\"\"\")\n",
        "sns.despine()\n",
        "plt.show()"
      ],
      "execution_count": 28,
      "outputs": [
        {
          "output_type": "display_data",
          "data": {
            "image/png": "[encoded data removed]",
            "text/plain": [
              "<Figure size 432x288 with 1 Axes>"
            ]
          },
          "metadata": {
            "tags": [],
            "needs_background": "light"
          }
        }
      ]
    },
    {
      "cell_type": "markdown",
      "metadata": {
        "id": "eNLf6VXMYn-z",
        "colab_type": "text"
      },
      "source": [
        "These models aren't horrible. They are a great starting point for trying to parse out the contributions of the defense on qb pressures and the \"contributions\" of the offense on qb pressures. To some extent we can predict how many hits per game a QB may incur using season hits-per-play aggregates for the offense and defense. This did not accurately predict EPA for a game. \n",
        "\n",
        "Some things to try: control for more things on offense given the QB -- control for more things on the defense given perhaps top performers in the season?  \n"
      ]
    },
    {
      "cell_type": "markdown",
      "metadata": {
        "id": "D2AEUSE9Mvjo",
        "colab_type": "text"
      },
      "source": [
        "# Isolate more shit  "
      ]
    },
    {
      "cell_type": "code",
      "metadata": {
        "id": "tsV4IMwPNkvS",
        "colab_type": "code",
        "colab": {
          "base_uri": "https://localhost:8080/",
          "height": 34
        },
        "outputId": "834a0c21-08b0-4cb1-818b-64dafd9c6cb0"
      },
      "source": [
        "df_hits = df.loc[(df['season']>=2006)&(df['qb_hit']==1)&(df['penalty']==0)&(df['pass']==1)]\n",
        "df_hits.shape"
      ],
      "execution_count": 31,
      "outputs": [
        {
          "output_type": "execute_result",
          "data": {
            "text/plain": [
              "(34936, 323)"
            ]
          },
          "metadata": {
            "tags": []
          },
          "execution_count": 31
        }
      ]
    },
    {
      "cell_type": "code",
      "metadata": {
        "id": "yPLKnqMkPBob",
        "colab_type": "code",
        "colab": {
          "base_uri": "https://localhost:8080/",
          "height": 34
        },
        "outputId": "3f38d392-43ef-4a53-cde7-537742888b20"
      },
      "source": [
        "qb_hit_success = df_hits.loc[:,['season','passer','success','epa','ones']].groupby(['season','passer'],as_index=False).sum()\n",
        "qb_hit_success = qb_hit_success.rename(columns={'ones':'n_hits'})\n",
        "qb_hit_success.shape"
      ],
      "execution_count": 46,
      "outputs": [
        {
          "output_type": "execute_result",
          "data": {
            "text/plain": [
              "(1000, 5)"
            ]
          },
          "metadata": {
            "tags": []
          },
          "execution_count": 46
        }
      ]
    },
    {
      "cell_type": "code",
      "metadata": {
        "id": "THFO5C2RRyHv",
        "colab_type": "code",
        "colab": {}
      },
      "source": [
        "qb_hit_success['success_per_hit'] = qb_hit_success['success'].div(qb_hit_success['n_hits'])\n",
        "qb_hit_success['epa_per_hit'] = qb_hit_success['epa'].div(qb_hit_success['n_hits'])"
      ],
      "execution_count": 47,
      "outputs": []
    },
    {
      "cell_type": "code",
      "metadata": {
        "id": "PoAeXkOISoFB",
        "colab_type": "code",
        "colab": {
          "base_uri": "https://localhost:8080/",
          "height": 432
        },
        "outputId": "ac9c1b6f-1782-44db-bb3f-0b01b262dba8"
      },
      "source": [
        "qb_threshold = df.loc[:,['season','passer','ones']].groupby(['season','passer'],as_index=False).sum()\n",
        "sns.distplot(qb_threshold.loc[qb_threshold['ones']>425,'ones'])\n",
        "qb_threshold.loc[qb_threshold['ones']>425,'ones'].describe()"
      ],
      "execution_count": 54,
      "outputs": [
        {
          "output_type": "execute_result",
          "data": {
            "text/plain": [
              "count    501.000000\n",
              "mean     609.638723\n",
              "std       94.038818\n",
              "min      426.000000\n",
              "25%      540.000000\n",
              "50%      611.000000\n",
              "75%      672.000000\n",
              "max      875.000000\n",
              "Name: ones, dtype: float64"
            ]
          },
          "metadata": {
            "tags": []
          },
          "execution_count": 54
        },
        {
          "output_type": "display_data",
          "data": {
            "image/png": "[encoded data removed]",
            "text/plain": [
              "<Figure size 432x288 with 1 Axes>"
            ]
          },
          "metadata": {
            "tags": [],
            "needs_background": "light"
          }
        }
      ]
    },
    {
      "cell_type": "code",
      "metadata": {
        "id": "9juNROw1UcV4",
        "colab_type": "code",
        "colab": {}
      },
      "source": [
        "qb_hit_success = qb_hit_success.merge(qb_threshold.loc[qb_threshold['ones']>425,['season','passer']])"
      ],
      "execution_count": 57,
      "outputs": []
    },
    {
      "cell_type": "code",
      "metadata": {
        "id": "u9UeLTasV9r1",
        "colab_type": "code",
        "colab": {
          "base_uri": "https://localhost:8080/",
          "height": 34
        },
        "outputId": "4ea4015a-891c-4e52-b546-9f38e0f6496a"
      },
      "source": [
        ""
      ],
      "execution_count": 72,
      "outputs": [
        {
          "output_type": "execute_result",
          "data": {
            "text/plain": [
              "0.16611114303775645"
            ]
          },
          "metadata": {
            "tags": []
          },
          "execution_count": 72
        }
      ]
    },
    {
      "cell_type": "code",
      "metadata": {
        "id": "1Fwpb_I4Sd5d",
        "colab_type": "code",
        "colab": {
          "base_uri": "https://localhost:8080/",
          "height": 389
        },
        "outputId": "44333d12-8e35-4bf7-b27c-d0830da1241a"
      },
      "source": [
        "y = 'success_per_hit'\n",
        "df_plt = (qb_hit_success\n",
        "          .loc[qb_hit_success['season']==2019]\n",
        "          .sort_values('epa',ascending=False)\n",
        "          .reset_index(drop=True))\n",
        "order = df_plt.sort_values(y,ascending=False)['passer'].values\n",
        "sns.barplot(y,'passer',data=df_plt, orient='h', order=order)\n",
        "sns.despine()\n",
        "plt.gcf().set_size_inches(plt.gcf().get_size_inches()[0],6)\n",
        "plt.axvline(df_hits['success'].mean(),c='k',ls=':')\n",
        "plt.show()"
      ],
      "execution_count": 73,
      "outputs": [
        {
          "output_type": "display_data",
          "data": {
            "image/png": "[encoded data removed]",
            "text/plain": [
              "<Figure size 432x432 with 1 Axes>"
            ]
          },
          "metadata": {
            "tags": [],
            "needs_background": "light"
          }
        }
      ]
    },
    {
      "cell_type": "code",
      "metadata": {
        "id": "xZBBYFxxXgUZ",
        "colab_type": "code",
        "colab": {
          "base_uri": "https://localhost:8080/",
          "height": 389
        },
        "outputId": "ea8a7350-9561-4518-9a7a-b04246552859"
      },
      "source": [
        "y = 'epa_per_hit'\n",
        "df_plt = (qb_hit_success\n",
        "          .loc[qb_hit_success['season']==2019]\n",
        "          .sort_values('epa',ascending=False)\n",
        "          .reset_index(drop=True))\n",
        "order = df_plt.sort_values(y,ascending=False)['passer'].values\n",
        "sns.barplot(y,'passer',data=df_plt, orient='h', order=order)\n",
        "sns.despine()\n",
        "plt.gcf().set_size_inches(plt.gcf().get_size_inches()[0],6)\n",
        "plt.axvline(df_hits['epa'].mean(),c='k',ls=':')\n",
        "plt.show()"
      ],
      "execution_count": 76,
      "outputs": [
        {
          "output_type": "display_data",
          "data": {
            "image/png": "[encoded data removed]",
            "text/plain": [
              "<Figure size 432x432 with 1 Axes>"
            ]
          },
          "metadata": {
            "tags": [],
            "needs_background": "light"
          }
        }
      ]
    }
  ]
}