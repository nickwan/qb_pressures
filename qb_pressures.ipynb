{
  "nbformat": 4,
  "nbformat_minor": 0,
  "metadata": {
    "colab": {
      "name": "qb_pressures.ipynb",
      "provenance": [],
      "collapsed_sections": [],
      "mount_file_id": "1ISHrfiXYG3x4-QwR6_lWhEwZcclSRr2G",
      "authorship_tag": "ABX9TyNG69u0iedBoQbkHDj0MzPN",
      "include_colab_link": true
    },
    "kernelspec": {
      "name": "python3",
      "display_name": "Python 3"
    },
    "widgets": {
      "application/vnd.jupyter.widget-state+json": {
        "963ce66a66314190b4170c892b5fdd0d": {
          "model_module": "@jupyter-widgets/controls",
          "model_name": "HBoxModel",
          "state": {
            "_view_name": "HBoxView",
            "_dom_classes": [],
            "_model_name": "HBoxModel",
            "_view_module": "@jupyter-widgets/controls",
            "_model_module_version": "1.5.0",
            "_view_count": null,
            "_view_module_version": "1.5.0",
            "box_style": "",
            "layout": "IPY_MODEL_d948c30ad18541c6a77dd49dc9354d4c",
            "_model_module": "@jupyter-widgets/controls",
            "children": [
              "IPY_MODEL_95f685912ed44acb9df030dfdf4642cb",
              "IPY_MODEL_085621ec7c164087ad4f1796fea2ce03"
            ]
          }
        },
        "d948c30ad18541c6a77dd49dc9354d4c": {
          "model_module": "@jupyter-widgets/base",
          "model_name": "LayoutModel",
          "state": {
            "_view_name": "LayoutView",
            "grid_template_rows": null,
            "right": null,
            "justify_content": null,
            "_view_module": "@jupyter-widgets/base",
            "overflow": null,
            "_model_module_version": "1.2.0",
            "_view_count": null,
            "flex_flow": null,
            "width": null,
            "min_width": null,
            "border": null,
            "align_items": null,
            "bottom": null,
            "_model_module": "@jupyter-widgets/base",
            "top": null,
            "grid_column": null,
            "overflow_y": null,
            "overflow_x": null,
            "grid_auto_flow": null,
            "grid_area": null,
            "grid_template_columns": null,
            "flex": null,
            "_model_name": "LayoutModel",
            "justify_items": null,
            "grid_row": null,
            "max_height": null,
            "align_content": null,
            "visibility": null,
            "align_self": null,
            "height": null,
            "min_height": null,
            "padding": null,
            "grid_auto_rows": null,
            "grid_gap": null,
            "max_width": null,
            "order": null,
            "_view_module_version": "1.2.0",
            "grid_template_areas": null,
            "object_position": null,
            "object_fit": null,
            "grid_auto_columns": null,
            "margin": null,
            "display": null,
            "left": null
          }
        },
        "95f685912ed44acb9df030dfdf4642cb": {
          "model_module": "@jupyter-widgets/controls",
          "model_name": "FloatProgressModel",
          "state": {
            "_view_name": "ProgressView",
            "style": "IPY_MODEL_663c45b28aa049108a4811fadf83093c",
            "_dom_classes": [],
            "description": "",
            "_model_name": "FloatProgressModel",
            "bar_style": "success",
            "max": 1,
            "_view_module": "@jupyter-widgets/controls",
            "_model_module_version": "1.5.0",
            "value": 1,
            "_view_count": null,
            "_view_module_version": "1.5.0",
            "orientation": "horizontal",
            "min": 0,
            "description_tooltip": null,
            "_model_module": "@jupyter-widgets/controls",
            "layout": "IPY_MODEL_f7c6b8a6d5874c2180aff2c623709599"
          }
        },
        "085621ec7c164087ad4f1796fea2ce03": {
          "model_module": "@jupyter-widgets/controls",
          "model_name": "HTMLModel",
          "state": {
            "_view_name": "HTMLView",
            "style": "IPY_MODEL_d459b5d26db04e0d950338151b3b88ec",
            "_dom_classes": [],
            "description": "",
            "_model_name": "HTMLModel",
            "placeholder": "​",
            "_view_module": "@jupyter-widgets/controls",
            "_model_module_version": "1.5.0",
            "value": " 21/? [1:50:02&lt;00:00, 314.42s/it]",
            "_view_count": null,
            "_view_module_version": "1.5.0",
            "description_tooltip": null,
            "_model_module": "@jupyter-widgets/controls",
            "layout": "IPY_MODEL_d076f02099ff4163999ab25210c1bee5"
          }
        },
        "663c45b28aa049108a4811fadf83093c": {
          "model_module": "@jupyter-widgets/controls",
          "model_name": "ProgressStyleModel",
          "state": {
            "_view_name": "StyleView",
            "_model_name": "ProgressStyleModel",
            "description_width": "initial",
            "_view_module": "@jupyter-widgets/base",
            "_model_module_version": "1.5.0",
            "_view_count": null,
            "_view_module_version": "1.2.0",
            "bar_color": null,
            "_model_module": "@jupyter-widgets/controls"
          }
        },
        "f7c6b8a6d5874c2180aff2c623709599": {
          "model_module": "@jupyter-widgets/base",
          "model_name": "LayoutModel",
          "state": {
            "_view_name": "LayoutView",
            "grid_template_rows": null,
            "right": null,
            "justify_content": null,
            "_view_module": "@jupyter-widgets/base",
            "overflow": null,
            "_model_module_version": "1.2.0",
            "_view_count": null,
            "flex_flow": null,
            "width": null,
            "min_width": null,
            "border": null,
            "align_items": null,
            "bottom": null,
            "_model_module": "@jupyter-widgets/base",
            "top": null,
            "grid_column": null,
            "overflow_y": null,
            "overflow_x": null,
            "grid_auto_flow": null,
            "grid_area": null,
            "grid_template_columns": null,
            "flex": null,
            "_model_name": "LayoutModel",
            "justify_items": null,
            "grid_row": null,
            "max_height": null,
            "align_content": null,
            "visibility": null,
            "align_self": null,
            "height": null,
            "min_height": null,
            "padding": null,
            "grid_auto_rows": null,
            "grid_gap": null,
            "max_width": null,
            "order": null,
            "_view_module_version": "1.2.0",
            "grid_template_areas": null,
            "object_position": null,
            "object_fit": null,
            "grid_auto_columns": null,
            "margin": null,
            "display": null,
            "left": null
          }
        },
        "d459b5d26db04e0d950338151b3b88ec": {
          "model_module": "@jupyter-widgets/controls",
          "model_name": "DescriptionStyleModel",
          "state": {
            "_view_name": "StyleView",
            "_model_name": "DescriptionStyleModel",
            "description_width": "",
            "_view_module": "@jupyter-widgets/base",
            "_model_module_version": "1.5.0",
            "_view_count": null,
            "_view_module_version": "1.2.0",
            "_model_module": "@jupyter-widgets/controls"
          }
        },
        "d076f02099ff4163999ab25210c1bee5": {
          "model_module": "@jupyter-widgets/base",
          "model_name": "LayoutModel",
          "state": {
            "_view_name": "LayoutView",
            "grid_template_rows": null,
            "right": null,
            "justify_content": null,
            "_view_module": "@jupyter-widgets/base",
            "overflow": null,
            "_model_module_version": "1.2.0",
            "_view_count": null,
            "flex_flow": null,
            "width": null,
            "min_width": null,
            "border": null,
            "align_items": null,
            "bottom": null,
            "_model_module": "@jupyter-widgets/base",
            "top": null,
            "grid_column": null,
            "overflow_y": null,
            "overflow_x": null,
            "grid_auto_flow": null,
            "grid_area": null,
            "grid_template_columns": null,
            "flex": null,
            "_model_name": "LayoutModel",
            "justify_items": null,
            "grid_row": null,
            "max_height": null,
            "align_content": null,
            "visibility": null,
            "align_self": null,
            "height": null,
            "min_height": null,
            "padding": null,
            "grid_auto_rows": null,
            "grid_gap": null,
            "max_width": null,
            "order": null,
            "_view_module_version": "1.2.0",
            "grid_template_areas": null,
            "object_position": null,
            "object_fit": null,
            "grid_auto_columns": null,
            "margin": null,
            "display": null,
            "left": null
          }
        }
      }
    }
  },
  "cells": [
    {
      "cell_type": "markdown",
      "metadata": {
        "id": "view-in-github",
        "colab_type": "text"
      },
      "source": [
        "<a href=\"https://colab.research.google.com/github/nickwan/qb_pressures/blob/master/qb_pressures.ipynb\" target=\"_parent\"><img src=\"https://colab.research.google.com/assets/colab-badge.svg\" alt=\"Open In Colab\"/></a>"
      ]
    },
    {
      "cell_type": "markdown",
      "metadata": {
        "id": "EKvEnKgiooEa",
        "colab_type": "text"
      },
      "source": [
        "#QB Pressures"
      ]
    },
    {
      "cell_type": "markdown",
      "metadata": {
        "id": "FhVIsBVYojET",
        "colab_type": "text"
      },
      "source": [
        "#Load in \n"
      ]
    },
    {
      "cell_type": "code",
      "metadata": {
        "id": "WFZmL9hgosMW",
        "colab_type": "code",
        "colab": {
          "base_uri": "https://localhost:8080/",
          "height": 904
        },
        "outputId": "e465dc72-95c9-41f6-a4eb-d98129f185ad"
      },
      "source": [
        "!apt install subversion --quiet\n",
        "!pip install adjustText --quiet\n",
        "!pip install shap --quiet\n",
        "!pip install scikit-garden --quiet\n",
        "!pip install rpy2 --quiet "
      ],
      "execution_count": 1,
      "outputs": [
        {
          "output_type": "stream",
          "text": [
            "Reading package lists...\n",
            "Building dependency tree...\n",
            "Reading state information...\n",
            "The following package was automatically installed and is no longer required:\n",
            "  libnvidia-common-440\n",
            "Use 'apt autoremove' to remove it.\n",
            "The following additional packages will be installed:\n",
            "  libapr1 libaprutil1 libserf-1-1 libsvn1\n",
            "Suggested packages:\n",
            "  db5.3-util libapache2-mod-svn subversion-tools\n",
            "The following NEW packages will be installed:\n",
            "  libapr1 libaprutil1 libserf-1-1 libsvn1 subversion\n",
            "0 upgraded, 5 newly installed, 0 to remove and 33 not upgraded.\n",
            "Need to get 2,237 kB of archives.\n",
            "After this operation, 9,910 kB of additional disk space will be used.\n",
            "Get:1 http://archive.ubuntu.com/ubuntu bionic/main amd64 libapr1 amd64 1.6.3-2 [90.9 kB]\n",
            "Get:2 http://archive.ubuntu.com/ubuntu bionic/main amd64 libaprutil1 amd64 1.6.1-2 [84.4 kB]\n",
            "Get:3 http://archive.ubuntu.com/ubuntu bionic/universe amd64 libserf-1-1 amd64 1.3.9-6 [44.4 kB]\n",
            "Get:4 http://archive.ubuntu.com/ubuntu bionic/universe amd64 libsvn1 amd64 1.9.7-4ubuntu1 [1,183 kB]\n",
            "Get:5 http://archive.ubuntu.com/ubuntu bionic/universe amd64 subversion amd64 1.9.7-4ubuntu1 [834 kB]\n",
            "Fetched 2,237 kB in 1s (1,522 kB/s)\n",
            "Selecting previously unselected package libapr1:amd64.\n",
            "(Reading database ... 144379 files and directories currently installed.)\n",
            "Preparing to unpack .../libapr1_1.6.3-2_amd64.deb ...\n",
            "Unpacking libapr1:amd64 (1.6.3-2) ...\n",
            "Selecting previously unselected package libaprutil1:amd64.\n",
            "Preparing to unpack .../libaprutil1_1.6.1-2_amd64.deb ...\n",
            "Unpacking libaprutil1:amd64 (1.6.1-2) ...\n",
            "Selecting previously unselected package libserf-1-1:amd64.\n",
            "Preparing to unpack .../libserf-1-1_1.3.9-6_amd64.deb ...\n",
            "Unpacking libserf-1-1:amd64 (1.3.9-6) ...\n",
            "Selecting previously unselected package libsvn1:amd64.\n",
            "Preparing to unpack .../libsvn1_1.9.7-4ubuntu1_amd64.deb ...\n",
            "Unpacking libsvn1:amd64 (1.9.7-4ubuntu1) ...\n",
            "Selecting previously unselected package subversion.\n",
            "Preparing to unpack .../subversion_1.9.7-4ubuntu1_amd64.deb ...\n",
            "Unpacking subversion (1.9.7-4ubuntu1) ...\n",
            "Setting up libapr1:amd64 (1.6.3-2) ...\n",
            "Setting up libaprutil1:amd64 (1.6.1-2) ...\n",
            "Setting up libserf-1-1:amd64 (1.3.9-6) ...\n",
            "Setting up libsvn1:amd64 (1.9.7-4ubuntu1) ...\n",
            "Setting up subversion (1.9.7-4ubuntu1) ...\n",
            "Processing triggers for libc-bin (2.27-3ubuntu1) ...\n",
            "/sbin/ldconfig.real: /usr/local/lib/python3.6/dist-packages/ideep4py/lib/libmkldnn.so.0 is not a symbolic link\n",
            "\n",
            "Processing triggers for man-db (2.8.3-2ubuntu0.1) ...\n",
            "  Building wheel for adjustText (setup.py) ... \u001b[?25l\u001b[?25hdone\n",
            "\u001b[K     |████████████████████████████████| 276kB 4.9MB/s \n",
            "\u001b[?25h  Building wheel for shap (setup.py) ... \u001b[?25l\u001b[?25hdone\n",
            "\u001b[K     |████████████████████████████████| 317kB 4.9MB/s \n",
            "\u001b[?25h  Building wheel for scikit-garden (setup.py) ... \u001b[?25l\u001b[?25hdone\n"
          ],
          "name": "stdout"
        }
      ]
    },
    {
      "cell_type": "code",
      "metadata": {
        "id": "Vjau7jHDouBz",
        "colab_type": "code",
        "colab": {
          "base_uri": "https://localhost:8080/",
          "height": 139
        },
        "outputId": "011dec73-7f3f-43f5-cee3-ded810eae32b"
      },
      "source": [
        "import time\n",
        "from joblib import dump, load\n",
        "import random\n",
        "import requests\n",
        "import json\n",
        "import datetime\n",
        "import os\n",
        "import re\n",
        "import pandas as pd\n",
        "import numpy as np \n",
        "import matplotlib.pyplot as plt \n",
        "import seaborn as sns \n",
        "from adjustText import adjust_text\n",
        "from tqdm.notebook import tqdm\n",
        "\n",
        "import rpy2.robjects as robjects\n",
        "from rpy2.robjects import pandas2ri\n",
        "\n",
        "from sklearn.linear_model import LinearRegression, LogisticRegression\n",
        "from sklearn.metrics import accuracy_score, mean_squared_error, log_loss\n",
        "from sklearn.model_selection import KFold \n",
        "\n",
        "from scipy.stats import pearsonr"
      ],
      "execution_count": 2,
      "outputs": [
        {
          "output_type": "stream",
          "text": [
            "/usr/local/lib/python3.6/dist-packages/statsmodels/tools/_testing.py:19: FutureWarning: pandas.util.testing is deprecated. Use the functions in the public API at pandas.testing instead.\n",
            "  import pandas.util.testing as tm\n",
            "/usr/local/lib/python3.6/dist-packages/rpy2/robjects/pandas2ri.py:14: FutureWarning: pandas.core.index is deprecated and will be removed in a future version.  The public classes are available in the top-level namespace.\n",
            "  from pandas.core.index import Index as PandasIndex\n",
            "/usr/local/lib/python3.6/dist-packages/rpy2/robjects/pandas2ri.py:34: UserWarning: pandas >= 1.0 is not supported.\n",
            "  warnings.warn('pandas >= 1.0 is not supported.')\n"
          ],
          "name": "stderr"
        }
      ]
    },
    {
      "cell_type": "code",
      "metadata": {
        "id": "npCpY4vLoweY",
        "colab_type": "code",
        "colab": {}
      },
      "source": [
        "# # # probably shouldn't rerun the full thing since it takes +30 mins \n",
        "# st = time.time()\n",
        "# !svn export https://github.com/guga31bb/nflfastR-data/trunk/data \"/content/drive/My Drive/nflfastR-data/data\" --force --quiet\n",
        "# !svn export https://github.com/guga31bb/nflfastR-data/trunk/roster-data \"/content/drive/My Drive/nflfastR-data/roster-data\" --force --quiet\n",
        "# dur = time.time() - st \n",
        "# print(f\"1 iteration dur (s): {dur}\\nETA (min): {6*round(dur/60)}\")\n"
      ],
      "execution_count": 3,
      "outputs": []
    },
    {
      "cell_type": "code",
      "metadata": {
        "id": "UBBVEkSAoxqF",
        "colab_type": "code",
        "colab": {
          "base_uri": "https://localhost:8080/",
          "height": 83,
          "referenced_widgets": [
            "963ce66a66314190b4170c892b5fdd0d",
            "d948c30ad18541c6a77dd49dc9354d4c",
            "95f685912ed44acb9df030dfdf4642cb",
            "085621ec7c164087ad4f1796fea2ce03",
            "663c45b28aa049108a4811fadf83093c",
            "f7c6b8a6d5874c2180aff2c623709599",
            "d459b5d26db04e0d950338151b3b88ec",
            "d076f02099ff4163999ab25210c1bee5"
          ]
        },
        "outputId": "7cb48b7b-b34f-48d1-b2cb-9c98c7204f8d"
      },
      "source": [
        "# For parquet file load \n",
        "data_dir = '/content/drive/My Drive/nflfastR-data'\n",
        "data_files = [f'{data_dir}/data/{x}' for x in os.listdir(f\"\"\"{data_dir}/data\"\"\") if x.endswith('.parquet')]\n",
        "# data_files = [x for x in data_files if int(x[-8:-4]) >= 2009]\n",
        "df = pd.DataFrame()\n",
        "for fn in tqdm(reversed(data_files)):\n",
        "  _df = pd.read_parquet(fn)\n",
        "  df= df.append(_df,ignore_index=True)\n",
        "df['ones'] = 1  \n",
        "df.shape  "
      ],
      "execution_count": 5,
      "outputs": [
        {
          "output_type": "display_data",
          "data": {
            "application/vnd.jupyter.widget-view+json": {
              "model_id": "963ce66a66314190b4170c892b5fdd0d",
              "version_minor": 0,
              "version_major": 2
            },
            "text/plain": [
              "HBox(children=(FloatProgress(value=1.0, bar_style='info', max=1.0), HTML(value='')))"
            ]
          },
          "metadata": {
            "tags": []
          }
        },
        {
          "output_type": "stream",
          "text": [
            "\n"
          ],
          "name": "stdout"
        },
        {
          "output_type": "execute_result",
          "data": {
            "text/plain": [
              "(996549, 322)"
            ]
          },
          "metadata": {
            "tags": []
          },
          "execution_count": 5
        }
      ]
    },
    {
      "cell_type": "code",
      "metadata": {
        "id": "1PYS5kIdo0Q3",
        "colab_type": "code",
        "colab": {
          "base_uri": "https://localhost:8080/",
          "height": 34
        },
        "outputId": "1f012535-266e-45c3-e7db-b06054068413"
      },
      "source": [
        "roster = pd.read_csv(f\"{data_dir}/roster-data/roster.csv\")\n",
        "roster.shape"
      ],
      "execution_count": 6,
      "outputs": [
        {
          "output_type": "execute_result",
          "data": {
            "text/plain": [
              "(56175, 28)"
            ]
          },
          "metadata": {
            "tags": []
          },
          "execution_count": 6
        }
      ]
    },
    {
      "cell_type": "markdown",
      "metadata": {
        "id": "BD-q146wpgq5",
        "colab_type": "text"
      },
      "source": [
        "# Data exploration "
      ]
    },
    {
      "cell_type": "code",
      "metadata": {
        "id": "QYzHZNpGpj2d",
        "colab_type": "code",
        "colab": {
          "base_uri": "https://localhost:8080/",
          "height": 1000
        },
        "outputId": "5674011f-4716-44ca-8e60-745275f1188c"
      },
      "source": [
        "df.columns.values"
      ],
      "execution_count": 7,
      "outputs": [
        {
          "output_type": "execute_result",
          "data": {
            "text/plain": [
              "array(['play_id', 'game_id', 'home_team', 'away_team', 'season_type',\n",
              "       'week', 'posteam', 'posteam_type', 'defteam', 'side_of_field',\n",
              "       'yardline_100', 'game_date', 'quarter_seconds_remaining',\n",
              "       'half_seconds_remaining', 'game_seconds_remaining', 'game_half',\n",
              "       'quarter_end', 'drive', 'sp', 'qtr', 'down', 'goal_to_go', 'time',\n",
              "       'yrdln', 'ydstogo', 'ydsnet', 'desc', 'play_type', 'yards_gained',\n",
              "       'shotgun', 'no_huddle', 'qb_dropback', 'qb_kneel', 'qb_spike',\n",
              "       'qb_scramble', 'pass_length', 'pass_location', 'air_yards',\n",
              "       'yards_after_catch', 'run_location', 'run_gap',\n",
              "       'field_goal_result', 'kick_distance', 'extra_point_result',\n",
              "       'two_point_conv_result', 'home_timeouts_remaining',\n",
              "       'away_timeouts_remaining', 'timeout', 'timeout_team', 'td_team',\n",
              "       'posteam_timeouts_remaining', 'defteam_timeouts_remaining',\n",
              "       'total_home_score', 'total_away_score', 'posteam_score',\n",
              "       'defteam_score', 'score_differential', 'posteam_score_post',\n",
              "       'defteam_score_post', 'score_differential_post', 'no_score_prob',\n",
              "       'opp_fg_prob', 'opp_safety_prob', 'opp_td_prob', 'fg_prob',\n",
              "       'safety_prob', 'td_prob', 'extra_point_prob',\n",
              "       'two_point_conversion_prob', 'ep', 'epa', 'total_home_epa',\n",
              "       'total_away_epa', 'total_home_rush_epa', 'total_away_rush_epa',\n",
              "       'total_home_pass_epa', 'total_away_pass_epa', 'air_epa', 'yac_epa',\n",
              "       'comp_air_epa', 'comp_yac_epa', 'total_home_comp_air_epa',\n",
              "       'total_away_comp_air_epa', 'total_home_comp_yac_epa',\n",
              "       'total_away_comp_yac_epa', 'total_home_raw_air_epa',\n",
              "       'total_away_raw_air_epa', 'total_home_raw_yac_epa',\n",
              "       'total_away_raw_yac_epa', 'wp', 'def_wp', 'home_wp', 'away_wp',\n",
              "       'wpa', 'home_wp_post', 'away_wp_post', 'vegas_wp', 'vegas_home_wp',\n",
              "       'total_home_rush_wpa', 'total_away_rush_wpa',\n",
              "       'total_home_pass_wpa', 'total_away_pass_wpa', 'air_wpa', 'yac_wpa',\n",
              "       'comp_air_wpa', 'comp_yac_wpa', 'total_home_comp_air_wpa',\n",
              "       'total_away_comp_air_wpa', 'total_home_comp_yac_wpa',\n",
              "       'total_away_comp_yac_wpa', 'total_home_raw_air_wpa',\n",
              "       'total_away_raw_air_wpa', 'total_home_raw_yac_wpa',\n",
              "       'total_away_raw_yac_wpa', 'punt_blocked', 'first_down_rush',\n",
              "       'first_down_pass', 'first_down_penalty', 'third_down_converted',\n",
              "       'third_down_failed', 'fourth_down_converted', 'fourth_down_failed',\n",
              "       'incomplete_pass', 'touchback', 'interception',\n",
              "       'punt_inside_twenty', 'punt_in_endzone', 'punt_out_of_bounds',\n",
              "       'punt_downed', 'punt_fair_catch', 'kickoff_inside_twenty',\n",
              "       'kickoff_in_endzone', 'kickoff_out_of_bounds', 'kickoff_downed',\n",
              "       'kickoff_fair_catch', 'fumble_forced', 'fumble_not_forced',\n",
              "       'fumble_out_of_bounds', 'solo_tackle', 'safety', 'penalty',\n",
              "       'tackled_for_loss', 'fumble_lost', 'own_kickoff_recovery',\n",
              "       'own_kickoff_recovery_td', 'qb_hit', 'rush_attempt',\n",
              "       'pass_attempt', 'sack', 'touchdown', 'pass_touchdown',\n",
              "       'rush_touchdown', 'return_touchdown', 'extra_point_attempt',\n",
              "       'two_point_attempt', 'field_goal_attempt', 'kickoff_attempt',\n",
              "       'punt_attempt', 'fumble', 'complete_pass', 'assist_tackle',\n",
              "       'lateral_reception', 'lateral_rush', 'lateral_return',\n",
              "       'lateral_recovery', 'passer_player_id', 'passer_player_name',\n",
              "       'receiver_player_id', 'receiver_player_name', 'rusher_player_id',\n",
              "       'rusher_player_name', 'lateral_receiver_player_id',\n",
              "       'lateral_receiver_player_name', 'lateral_rusher_player_id',\n",
              "       'lateral_rusher_player_name', 'lateral_sack_player_id',\n",
              "       'lateral_sack_player_name', 'interception_player_id',\n",
              "       'interception_player_name', 'lateral_interception_player_id',\n",
              "       'lateral_interception_player_name', 'punt_returner_player_id',\n",
              "       'punt_returner_player_name', 'lateral_punt_returner_player_id',\n",
              "       'lateral_punt_returner_player_name',\n",
              "       'kickoff_returner_player_name', 'kickoff_returner_player_id',\n",
              "       'lateral_kickoff_returner_player_id',\n",
              "       'lateral_kickoff_returner_player_name', 'punter_player_id',\n",
              "       'punter_player_name', 'kicker_player_name', 'kicker_player_id',\n",
              "       'own_kickoff_recovery_player_id',\n",
              "       'own_kickoff_recovery_player_name', 'blocked_player_id',\n",
              "       'blocked_player_name', 'tackle_for_loss_1_player_id',\n",
              "       'tackle_for_loss_1_player_name', 'tackle_for_loss_2_player_id',\n",
              "       'tackle_for_loss_2_player_name', 'qb_hit_1_player_id',\n",
              "       'qb_hit_1_player_name', 'qb_hit_2_player_id',\n",
              "       'qb_hit_2_player_name', 'forced_fumble_player_1_team',\n",
              "       'forced_fumble_player_1_player_id',\n",
              "       'forced_fumble_player_1_player_name',\n",
              "       'forced_fumble_player_2_team', 'forced_fumble_player_2_player_id',\n",
              "       'forced_fumble_player_2_player_name', 'solo_tackle_1_team',\n",
              "       'solo_tackle_2_team', 'solo_tackle_1_player_id',\n",
              "       'solo_tackle_2_player_id', 'solo_tackle_1_player_name',\n",
              "       'solo_tackle_2_player_name', 'assist_tackle_1_player_id',\n",
              "       'assist_tackle_1_player_name', 'assist_tackle_1_team',\n",
              "       'assist_tackle_2_player_id', 'assist_tackle_2_player_name',\n",
              "       'assist_tackle_2_team', 'assist_tackle_3_player_id',\n",
              "       'assist_tackle_3_player_name', 'assist_tackle_3_team',\n",
              "       'assist_tackle_4_player_id', 'assist_tackle_4_player_name',\n",
              "       'assist_tackle_4_team', 'pass_defense_1_player_id',\n",
              "       'pass_defense_1_player_name', 'pass_defense_2_player_id',\n",
              "       'pass_defense_2_player_name', 'fumbled_1_team',\n",
              "       'fumbled_1_player_id', 'fumbled_1_player_name',\n",
              "       'fumbled_2_player_id', 'fumbled_2_player_name', 'fumbled_2_team',\n",
              "       'fumble_recovery_1_team', 'fumble_recovery_1_yards',\n",
              "       'fumble_recovery_1_player_id', 'fumble_recovery_1_player_name',\n",
              "       'fumble_recovery_2_team', 'fumble_recovery_2_yards',\n",
              "       'fumble_recovery_2_player_id', 'fumble_recovery_2_player_name',\n",
              "       'return_team', 'return_yards', 'penalty_team', 'penalty_player_id',\n",
              "       'penalty_player_name', 'penalty_yards', 'replay_or_challenge',\n",
              "       'replay_or_challenge_result', 'penalty_type',\n",
              "       'defensive_two_point_attempt', 'defensive_two_point_conv',\n",
              "       'defensive_extra_point_attempt', 'defensive_extra_point_conv',\n",
              "       'season', 'cp', 'cpoe', 'series', 'series_success', 'start_time',\n",
              "       'stadium', 'weather', 'nfl_api_id', 'play_clock', 'play_deleted',\n",
              "       'play_type_nfl', 'end_clock_time', 'end_yard_line',\n",
              "       'drive_real_start_time', 'drive_play_count',\n",
              "       'drive_time_of_possession', 'drive_first_downs', 'drive_inside20',\n",
              "       'drive_ended_with_score', 'drive_quarter_start',\n",
              "       'drive_quarter_end', 'drive_yards_penalized',\n",
              "       'drive_start_transition', 'drive_end_transition',\n",
              "       'drive_game_clock_start', 'drive_game_clock_end',\n",
              "       'drive_start_yard_line', 'drive_end_yard_line',\n",
              "       'drive_play_id_started', 'drive_play_id_ended', 'away_score',\n",
              "       'home_score', 'location', 'result', 'total', 'spread_line',\n",
              "       'total_line', 'div_game', 'roof', 'surface', 'temp', 'wind',\n",
              "       'home_coach', 'away_coach', 'stadium_id', 'game_stadium',\n",
              "       'success', 'passer', 'rusher', 'receiver', 'pass', 'rush',\n",
              "       'first_down', 'special', 'play', 'passer_id', 'rusher_id',\n",
              "       'receiver_id', 'name', 'id', 'qb_epa'], dtype=object)"
            ]
          },
          "metadata": {
            "tags": []
          },
          "execution_count": 7
        }
      ]
    },
    {
      "cell_type": "code",
      "metadata": {
        "id": "XrpwYCPK0Lfw",
        "colab_type": "code",
        "colab": {
          "base_uri": "https://localhost:8080/",
          "height": 317
        },
        "outputId": "fd9207db-f7a8-4548-fbf7-d9bcd5cc5cae"
      },
      "source": [
        "df.loc[df['pass']==1,['qb_dropback', 'qb_kneel', 'qb_spike',\n",
        "       'qb_scramble','sack','epa','success','pass','penalty']].describe()"
      ],
      "execution_count": 22,
      "outputs": [
        {
          "output_type": "execute_result",
          "data": {
            "text/html": [
              "<div>\n",
              "<style scoped>\n",
              "    .dataframe tbody tr th:only-of-type {\n",
              "        vertical-align: middle;\n",
              "    }\n",
              "\n",
              "    .dataframe tbody tr th {\n",
              "        vertical-align: top;\n",
              "    }\n",
              "\n",
              "    .dataframe thead th {\n",
              "        text-align: right;\n",
              "    }\n",
              "</style>\n",
              "<table border=\"1\" class=\"dataframe\">\n",
              "  <thead>\n",
              "    <tr style=\"text-align: right;\">\n",
              "      <th></th>\n",
              "      <th>qb_dropback</th>\n",
              "      <th>qb_kneel</th>\n",
              "      <th>qb_spike</th>\n",
              "      <th>qb_scramble</th>\n",
              "      <th>sack</th>\n",
              "      <th>epa</th>\n",
              "      <th>success</th>\n",
              "      <th>pass</th>\n",
              "      <th>penalty</th>\n",
              "    </tr>\n",
              "  </thead>\n",
              "  <tbody>\n",
              "    <tr>\n",
              "      <th>count</th>\n",
              "      <td>436075.000000</td>\n",
              "      <td>436773.000000</td>\n",
              "      <td>436773.000000</td>\n",
              "      <td>436773.000000</td>\n",
              "      <td>436075.000000</td>\n",
              "      <td>434812.000000</td>\n",
              "      <td>434812.000000</td>\n",
              "      <td>436773.0</td>\n",
              "      <td>436075.000000</td>\n",
              "    </tr>\n",
              "    <tr>\n",
              "      <th>mean</th>\n",
              "      <td>0.946622</td>\n",
              "      <td>0.000002</td>\n",
              "      <td>0.000114</td>\n",
              "      <td>0.030146</td>\n",
              "      <td>0.059068</td>\n",
              "      <td>0.043687</td>\n",
              "      <td>0.455926</td>\n",
              "      <td>1.0</td>\n",
              "      <td>0.063448</td>\n",
              "    </tr>\n",
              "    <tr>\n",
              "      <th>std</th>\n",
              "      <td>0.224787</td>\n",
              "      <td>0.001513</td>\n",
              "      <td>0.010699</td>\n",
              "      <td>0.170989</td>\n",
              "      <td>0.235752</td>\n",
              "      <td>1.576672</td>\n",
              "      <td>0.498054</td>\n",
              "      <td>0.0</td>\n",
              "      <td>0.243767</td>\n",
              "    </tr>\n",
              "    <tr>\n",
              "      <th>min</th>\n",
              "      <td>0.000000</td>\n",
              "      <td>0.000000</td>\n",
              "      <td>0.000000</td>\n",
              "      <td>0.000000</td>\n",
              "      <td>0.000000</td>\n",
              "      <td>-12.887873</td>\n",
              "      <td>0.000000</td>\n",
              "      <td>1.0</td>\n",
              "      <td>0.000000</td>\n",
              "    </tr>\n",
              "    <tr>\n",
              "      <th>25%</th>\n",
              "      <td>1.000000</td>\n",
              "      <td>0.000000</td>\n",
              "      <td>0.000000</td>\n",
              "      <td>0.000000</td>\n",
              "      <td>0.000000</td>\n",
              "      <td>-0.720068</td>\n",
              "      <td>0.000000</td>\n",
              "      <td>1.0</td>\n",
              "      <td>0.000000</td>\n",
              "    </tr>\n",
              "    <tr>\n",
              "      <th>50%</th>\n",
              "      <td>1.000000</td>\n",
              "      <td>0.000000</td>\n",
              "      <td>0.000000</td>\n",
              "      <td>0.000000</td>\n",
              "      <td>0.000000</td>\n",
              "      <td>-0.188067</td>\n",
              "      <td>0.000000</td>\n",
              "      <td>1.0</td>\n",
              "      <td>0.000000</td>\n",
              "    </tr>\n",
              "    <tr>\n",
              "      <th>75%</th>\n",
              "      <td>1.000000</td>\n",
              "      <td>0.000000</td>\n",
              "      <td>0.000000</td>\n",
              "      <td>0.000000</td>\n",
              "      <td>0.000000</td>\n",
              "      <td>0.935285</td>\n",
              "      <td>1.000000</td>\n",
              "      <td>1.0</td>\n",
              "      <td>0.000000</td>\n",
              "    </tr>\n",
              "    <tr>\n",
              "      <th>max</th>\n",
              "      <td>1.000000</td>\n",
              "      <td>1.000000</td>\n",
              "      <td>1.000000</td>\n",
              "      <td>1.000000</td>\n",
              "      <td>1.000000</td>\n",
              "      <td>9.427382</td>\n",
              "      <td>1.000000</td>\n",
              "      <td>1.0</td>\n",
              "      <td>1.000000</td>\n",
              "    </tr>\n",
              "  </tbody>\n",
              "</table>\n",
              "</div>"
            ],
            "text/plain": [
              "         qb_dropback       qb_kneel  ...      pass        penalty\n",
              "count  436075.000000  436773.000000  ...  436773.0  436075.000000\n",
              "mean        0.946622       0.000002  ...       1.0       0.063448\n",
              "std         0.224787       0.001513  ...       0.0       0.243767\n",
              "min         0.000000       0.000000  ...       1.0       0.000000\n",
              "25%         1.000000       0.000000  ...       1.0       0.000000\n",
              "50%         1.000000       0.000000  ...       1.0       0.000000\n",
              "75%         1.000000       0.000000  ...       1.0       0.000000\n",
              "max         1.000000       1.000000  ...       1.0       1.000000\n",
              "\n",
              "[8 rows x 9 columns]"
            ]
          },
          "metadata": {
            "tags": []
          },
          "execution_count": 22
        }
      ]
    },
    {
      "cell_type": "code",
      "metadata": {
        "id": "ZEU_RSsPrDw7",
        "colab_type": "code",
        "colab": {
          "base_uri": "https://localhost:8080/",
          "height": 317
        },
        "outputId": "64460652-aa38-47f3-948c-c66bff6e4c15"
      },
      "source": [
        "df.loc[df['qb_hit']==1,['qb_dropback', 'qb_kneel', 'qb_spike',\n",
        "       'qb_scramble','sack','epa','success','pass','penalty']].describe()"
      ],
      "execution_count": 24,
      "outputs": [
        {
          "output_type": "execute_result",
          "data": {
            "text/html": [
              "<div>\n",
              "<style scoped>\n",
              "    .dataframe tbody tr th:only-of-type {\n",
              "        vertical-align: middle;\n",
              "    }\n",
              "\n",
              "    .dataframe tbody tr th {\n",
              "        vertical-align: top;\n",
              "    }\n",
              "\n",
              "    .dataframe thead th {\n",
              "        text-align: right;\n",
              "    }\n",
              "</style>\n",
              "<table border=\"1\" class=\"dataframe\">\n",
              "  <thead>\n",
              "    <tr style=\"text-align: right;\">\n",
              "      <th></th>\n",
              "      <th>qb_dropback</th>\n",
              "      <th>qb_kneel</th>\n",
              "      <th>qb_spike</th>\n",
              "      <th>qb_scramble</th>\n",
              "      <th>sack</th>\n",
              "      <th>epa</th>\n",
              "      <th>success</th>\n",
              "      <th>pass</th>\n",
              "      <th>penalty</th>\n",
              "    </tr>\n",
              "  </thead>\n",
              "  <tbody>\n",
              "    <tr>\n",
              "      <th>count</th>\n",
              "      <td>42166.000000</td>\n",
              "      <td>42166.0</td>\n",
              "      <td>42166.0</td>\n",
              "      <td>42166.000000</td>\n",
              "      <td>42166.000000</td>\n",
              "      <td>42002.000000</td>\n",
              "      <td>42002.000000</td>\n",
              "      <td>42166.000000</td>\n",
              "      <td>42166.000000</td>\n",
              "    </tr>\n",
              "    <tr>\n",
              "      <th>mean</th>\n",
              "      <td>0.991937</td>\n",
              "      <td>0.0</td>\n",
              "      <td>0.0</td>\n",
              "      <td>0.000213</td>\n",
              "      <td>0.513281</td>\n",
              "      <td>-0.888665</td>\n",
              "      <td>0.155564</td>\n",
              "      <td>0.999763</td>\n",
              "      <td>0.026704</td>\n",
              "    </tr>\n",
              "    <tr>\n",
              "      <th>std</th>\n",
              "      <td>0.089435</td>\n",
              "      <td>0.0</td>\n",
              "      <td>0.0</td>\n",
              "      <td>0.014608</td>\n",
              "      <td>0.499830</td>\n",
              "      <td>1.492000</td>\n",
              "      <td>0.362446</td>\n",
              "      <td>0.015398</td>\n",
              "      <td>0.161219</td>\n",
              "    </tr>\n",
              "    <tr>\n",
              "      <th>min</th>\n",
              "      <td>0.000000</td>\n",
              "      <td>0.0</td>\n",
              "      <td>0.0</td>\n",
              "      <td>0.000000</td>\n",
              "      <td>0.000000</td>\n",
              "      <td>-12.126753</td>\n",
              "      <td>0.000000</td>\n",
              "      <td>0.000000</td>\n",
              "      <td>0.000000</td>\n",
              "    </tr>\n",
              "    <tr>\n",
              "      <th>25%</th>\n",
              "      <td>1.000000</td>\n",
              "      <td>0.0</td>\n",
              "      <td>0.0</td>\n",
              "      <td>0.000000</td>\n",
              "      <td>0.000000</td>\n",
              "      <td>-1.566902</td>\n",
              "      <td>0.000000</td>\n",
              "      <td>1.000000</td>\n",
              "      <td>0.000000</td>\n",
              "    </tr>\n",
              "    <tr>\n",
              "      <th>50%</th>\n",
              "      <td>1.000000</td>\n",
              "      <td>0.0</td>\n",
              "      <td>0.0</td>\n",
              "      <td>0.000000</td>\n",
              "      <td>1.000000</td>\n",
              "      <td>-1.023506</td>\n",
              "      <td>0.000000</td>\n",
              "      <td>1.000000</td>\n",
              "      <td>0.000000</td>\n",
              "    </tr>\n",
              "    <tr>\n",
              "      <th>75%</th>\n",
              "      <td>1.000000</td>\n",
              "      <td>0.0</td>\n",
              "      <td>0.0</td>\n",
              "      <td>0.000000</td>\n",
              "      <td>1.000000</td>\n",
              "      <td>-0.465126</td>\n",
              "      <td>0.000000</td>\n",
              "      <td>1.000000</td>\n",
              "      <td>0.000000</td>\n",
              "    </tr>\n",
              "    <tr>\n",
              "      <th>max</th>\n",
              "      <td>1.000000</td>\n",
              "      <td>0.0</td>\n",
              "      <td>0.0</td>\n",
              "      <td>1.000000</td>\n",
              "      <td>1.000000</td>\n",
              "      <td>8.155553</td>\n",
              "      <td>1.000000</td>\n",
              "      <td>1.000000</td>\n",
              "      <td>1.000000</td>\n",
              "    </tr>\n",
              "  </tbody>\n",
              "</table>\n",
              "</div>"
            ],
            "text/plain": [
              "        qb_dropback  qb_kneel  ...          pass       penalty\n",
              "count  42166.000000   42166.0  ...  42166.000000  42166.000000\n",
              "mean       0.991937       0.0  ...      0.999763      0.026704\n",
              "std        0.089435       0.0  ...      0.015398      0.161219\n",
              "min        0.000000       0.0  ...      0.000000      0.000000\n",
              "25%        1.000000       0.0  ...      1.000000      0.000000\n",
              "50%        1.000000       0.0  ...      1.000000      0.000000\n",
              "75%        1.000000       0.0  ...      1.000000      0.000000\n",
              "max        1.000000       0.0  ...      1.000000      1.000000\n",
              "\n",
              "[8 rows x 9 columns]"
            ]
          },
          "metadata": {
            "tags": []
          },
          "execution_count": 24
        }
      ]
    },
    {
      "cell_type": "code",
      "metadata": {
        "id": "J2_eLvRE0lxY",
        "colab_type": "code",
        "colab": {
          "base_uri": "https://localhost:8080/",
          "height": 34
        },
        "outputId": "1b3c461d-8cde-4ce4-fd83-5e5d896e0b56"
      },
      "source": [
        "hits = df.loc[(df['season']>=2006)&(df['qb_hit']==1)&(df['penalty']==0)].copy()\n",
        "hits.shape"
      ],
      "execution_count": 48,
      "outputs": [
        {
          "output_type": "execute_result",
          "data": {
            "text/plain": [
              "(34946, 323)"
            ]
          },
          "metadata": {
            "tags": []
          },
          "execution_count": 48
        }
      ]
    },
    {
      "cell_type": "code",
      "metadata": {
        "id": "463T7I_LzVp7",
        "colab_type": "code",
        "colab": {}
      },
      "source": [
        "plays_sum = df.loc[:,['season','posteam','ones']].groupby(['season','posteam'],as_index=False).sum()\n",
        "hits_sum = hits.loc[:,['season','posteam','pass','epa','sack','ones']].groupby(['season','posteam'],as_index=False).sum()\n",
        "hits_sum = hits_sum.merge(plays_sum.rename(columns={'ones':'total_plays'}))\n",
        "hits_sum['hits_per_play'] = hits_sum['ones'].div(hits_sum['total_plays'])"
      ],
      "execution_count": 101,
      "outputs": []
    },
    {
      "cell_type": "code",
      "metadata": {
        "id": "WAAjCuqz359v",
        "colab_type": "code",
        "colab": {
          "base_uri": "https://localhost:8080/",
          "height": 359
        },
        "outputId": "15d2c3db-ad1b-4c39-fdcd-1eeabe497135"
      },
      "source": [
        "hits_sum.sort_values('hits_per_play',ascending=False).head(10)"
      ],
      "execution_count": 102,
      "outputs": [
        {
          "output_type": "execute_result",
          "data": {
            "text/html": [
              "<div>\n",
              "<style scoped>\n",
              "    .dataframe tbody tr th:only-of-type {\n",
              "        vertical-align: middle;\n",
              "    }\n",
              "\n",
              "    .dataframe tbody tr th {\n",
              "        vertical-align: top;\n",
              "    }\n",
              "\n",
              "    .dataframe thead th {\n",
              "        text-align: right;\n",
              "    }\n",
              "</style>\n",
              "<table border=\"1\" class=\"dataframe\">\n",
              "  <thead>\n",
              "    <tr style=\"text-align: right;\">\n",
              "      <th></th>\n",
              "      <th>season</th>\n",
              "      <th>posteam</th>\n",
              "      <th>pass</th>\n",
              "      <th>epa</th>\n",
              "      <th>sack</th>\n",
              "      <th>ones</th>\n",
              "      <th>total_plays</th>\n",
              "      <th>hits_per_play</th>\n",
              "    </tr>\n",
              "  </thead>\n",
              "  <tbody>\n",
              "    <tr>\n",
              "      <th>435</th>\n",
              "      <td>2019</td>\n",
              "      <td>MIA</td>\n",
              "      <td>144.0</td>\n",
              "      <td>-95.445272</td>\n",
              "      <td>56.0</td>\n",
              "      <td>144</td>\n",
              "      <td>1334</td>\n",
              "      <td>0.107946</td>\n",
              "    </tr>\n",
              "    <tr>\n",
              "      <th>327</th>\n",
              "      <td>2016</td>\n",
              "      <td>CLE</td>\n",
              "      <td>127.0</td>\n",
              "      <td>-85.284393</td>\n",
              "      <td>58.0</td>\n",
              "      <td>127</td>\n",
              "      <td>1285</td>\n",
              "      <td>0.098833</td>\n",
              "    </tr>\n",
              "    <tr>\n",
              "      <th>285</th>\n",
              "      <td>2014</td>\n",
              "      <td>TB</td>\n",
              "      <td>121.0</td>\n",
              "      <td>-95.590278</td>\n",
              "      <td>46.0</td>\n",
              "      <td>121</td>\n",
              "      <td>1242</td>\n",
              "      <td>0.097424</td>\n",
              "    </tr>\n",
              "    <tr>\n",
              "      <th>359</th>\n",
              "      <td>2017</td>\n",
              "      <td>CLE</td>\n",
              "      <td>122.0</td>\n",
              "      <td>-106.130815</td>\n",
              "      <td>46.0</td>\n",
              "      <td>122</td>\n",
              "      <td>1304</td>\n",
              "      <td>0.093558</td>\n",
              "    </tr>\n",
              "    <tr>\n",
              "      <th>417</th>\n",
              "      <td>2019</td>\n",
              "      <td>ATL</td>\n",
              "      <td>132.0</td>\n",
              "      <td>-96.173008</td>\n",
              "      <td>49.0</td>\n",
              "      <td>132</td>\n",
              "      <td>1419</td>\n",
              "      <td>0.093023</td>\n",
              "    </tr>\n",
              "    <tr>\n",
              "      <th>396</th>\n",
              "      <td>2018</td>\n",
              "      <td>HOU</td>\n",
              "      <td>131.0</td>\n",
              "      <td>-126.351211</td>\n",
              "      <td>63.0</td>\n",
              "      <td>131</td>\n",
              "      <td>1433</td>\n",
              "      <td>0.091417</td>\n",
              "    </tr>\n",
              "    <tr>\n",
              "      <th>333</th>\n",
              "      <td>2016</td>\n",
              "      <td>IND</td>\n",
              "      <td>124.0</td>\n",
              "      <td>-75.471080</td>\n",
              "      <td>42.0</td>\n",
              "      <td>124</td>\n",
              "      <td>1360</td>\n",
              "      <td>0.091176</td>\n",
              "    </tr>\n",
              "    <tr>\n",
              "      <th>270</th>\n",
              "      <td>2014</td>\n",
              "      <td>JAX</td>\n",
              "      <td>116.0</td>\n",
              "      <td>-129.404161</td>\n",
              "      <td>67.0</td>\n",
              "      <td>116</td>\n",
              "      <td>1298</td>\n",
              "      <td>0.089368</td>\n",
              "    </tr>\n",
              "    <tr>\n",
              "      <th>412</th>\n",
              "      <td>2018</td>\n",
              "      <td>SF</td>\n",
              "      <td>117.0</td>\n",
              "      <td>-82.673146</td>\n",
              "      <td>44.0</td>\n",
              "      <td>117</td>\n",
              "      <td>1314</td>\n",
              "      <td>0.089041</td>\n",
              "    </tr>\n",
              "    <tr>\n",
              "      <th>403</th>\n",
              "      <td>2018</td>\n",
              "      <td>MIA</td>\n",
              "      <td>105.0</td>\n",
              "      <td>-97.981621</td>\n",
              "      <td>52.0</td>\n",
              "      <td>105</td>\n",
              "      <td>1181</td>\n",
              "      <td>0.088908</td>\n",
              "    </tr>\n",
              "  </tbody>\n",
              "</table>\n",
              "</div>"
            ],
            "text/plain": [
              "     season posteam   pass         epa  sack  ones  total_plays  hits_per_play\n",
              "435    2019     MIA  144.0  -95.445272  56.0   144         1334       0.107946\n",
              "327    2016     CLE  127.0  -85.284393  58.0   127         1285       0.098833\n",
              "285    2014      TB  121.0  -95.590278  46.0   121         1242       0.097424\n",
              "359    2017     CLE  122.0 -106.130815  46.0   122         1304       0.093558\n",
              "417    2019     ATL  132.0  -96.173008  49.0   132         1419       0.093023\n",
              "396    2018     HOU  131.0 -126.351211  63.0   131         1433       0.091417\n",
              "333    2016     IND  124.0  -75.471080  42.0   124         1360       0.091176\n",
              "270    2014     JAX  116.0 -129.404161  67.0   116         1298       0.089368\n",
              "412    2018      SF  117.0  -82.673146  44.0   117         1314       0.089041\n",
              "403    2018     MIA  105.0  -97.981621  52.0   105         1181       0.088908"
            ]
          },
          "metadata": {
            "tags": []
          },
          "execution_count": 102
        }
      ]
    },
    {
      "cell_type": "code",
      "metadata": {
        "id": "ubiHksR81eWm",
        "colab_type": "code",
        "colab": {
          "base_uri": "https://localhost:8080/",
          "height": 359
        },
        "outputId": "8361d70a-8a5a-45ef-ba42-32bc6f4b50ce"
      },
      "source": [
        "hits_sum.sort_values('ones',ascending=False).tail(10)"
      ],
      "execution_count": 103,
      "outputs": [
        {
          "output_type": "execute_result",
          "data": {
            "text/html": [
              "<div>\n",
              "<style scoped>\n",
              "    .dataframe tbody tr th:only-of-type {\n",
              "        vertical-align: middle;\n",
              "    }\n",
              "\n",
              "    .dataframe tbody tr th {\n",
              "        vertical-align: top;\n",
              "    }\n",
              "\n",
              "    .dataframe thead th {\n",
              "        text-align: right;\n",
              "    }\n",
              "</style>\n",
              "<table border=\"1\" class=\"dataframe\">\n",
              "  <thead>\n",
              "    <tr style=\"text-align: right;\">\n",
              "      <th></th>\n",
              "      <th>season</th>\n",
              "      <th>posteam</th>\n",
              "      <th>pass</th>\n",
              "      <th>epa</th>\n",
              "      <th>sack</th>\n",
              "      <th>ones</th>\n",
              "      <th>total_plays</th>\n",
              "      <th>hits_per_play</th>\n",
              "    </tr>\n",
              "  </thead>\n",
              "  <tbody>\n",
              "    <tr>\n",
              "      <th>158</th>\n",
              "      <td>2010</td>\n",
              "      <td>TEN</td>\n",
              "      <td>41.0</td>\n",
              "      <td>-42.844159</td>\n",
              "      <td>21.0</td>\n",
              "      <td>41</td>\n",
              "      <td>1269</td>\n",
              "      <td>0.032309</td>\n",
              "    </tr>\n",
              "    <tr>\n",
              "      <th>36</th>\n",
              "      <td>2007</td>\n",
              "      <td>CAR</td>\n",
              "      <td>41.0</td>\n",
              "      <td>-49.707616</td>\n",
              "      <td>27.0</td>\n",
              "      <td>41</td>\n",
              "      <td>1331</td>\n",
              "      <td>0.030804</td>\n",
              "    </tr>\n",
              "    <tr>\n",
              "      <th>338</th>\n",
              "      <td>2016</td>\n",
              "      <td>LV</td>\n",
              "      <td>41.0</td>\n",
              "      <td>-37.375262</td>\n",
              "      <td>19.0</td>\n",
              "      <td>41</td>\n",
              "      <td>1494</td>\n",
              "      <td>0.027443</td>\n",
              "    </tr>\n",
              "    <tr>\n",
              "      <th>126</th>\n",
              "      <td>2009</td>\n",
              "      <td>TEN</td>\n",
              "      <td>40.0</td>\n",
              "      <td>-39.881089</td>\n",
              "      <td>12.0</td>\n",
              "      <td>40</td>\n",
              "      <td>1317</td>\n",
              "      <td>0.030372</td>\n",
              "    </tr>\n",
              "    <tr>\n",
              "      <th>94</th>\n",
              "      <td>2008</td>\n",
              "      <td>TEN</td>\n",
              "      <td>39.0</td>\n",
              "      <td>-28.748698</td>\n",
              "      <td>8.0</td>\n",
              "      <td>39</td>\n",
              "      <td>1390</td>\n",
              "      <td>0.028058</td>\n",
              "    </tr>\n",
              "    <tr>\n",
              "      <th>39</th>\n",
              "      <td>2007</td>\n",
              "      <td>CLE</td>\n",
              "      <td>39.0</td>\n",
              "      <td>-32.216188</td>\n",
              "      <td>17.0</td>\n",
              "      <td>39</td>\n",
              "      <td>1365</td>\n",
              "      <td>0.028571</td>\n",
              "    </tr>\n",
              "    <tr>\n",
              "      <th>65</th>\n",
              "      <td>2008</td>\n",
              "      <td>ATL</td>\n",
              "      <td>38.0</td>\n",
              "      <td>-31.164159</td>\n",
              "      <td>17.0</td>\n",
              "      <td>38</td>\n",
              "      <td>1432</td>\n",
              "      <td>0.026536</td>\n",
              "    </tr>\n",
              "    <tr>\n",
              "      <th>54</th>\n",
              "      <td>2007</td>\n",
              "      <td>NO</td>\n",
              "      <td>36.0</td>\n",
              "      <td>-30.132779</td>\n",
              "      <td>7.0</td>\n",
              "      <td>36</td>\n",
              "      <td>1407</td>\n",
              "      <td>0.025586</td>\n",
              "    </tr>\n",
              "    <tr>\n",
              "      <th>68</th>\n",
              "      <td>2008</td>\n",
              "      <td>CAR</td>\n",
              "      <td>35.0</td>\n",
              "      <td>-26.062936</td>\n",
              "      <td>17.0</td>\n",
              "      <td>35</td>\n",
              "      <td>1361</td>\n",
              "      <td>0.025716</td>\n",
              "    </tr>\n",
              "    <tr>\n",
              "      <th>73</th>\n",
              "      <td>2008</td>\n",
              "      <td>DEN</td>\n",
              "      <td>18.0</td>\n",
              "      <td>-13.773149</td>\n",
              "      <td>11.0</td>\n",
              "      <td>18</td>\n",
              "      <td>1340</td>\n",
              "      <td>0.013433</td>\n",
              "    </tr>\n",
              "  </tbody>\n",
              "</table>\n",
              "</div>"
            ],
            "text/plain": [
              "     season posteam  pass        epa  sack  ones  total_plays  hits_per_play\n",
              "158    2010     TEN  41.0 -42.844159  21.0    41         1269       0.032309\n",
              "36     2007     CAR  41.0 -49.707616  27.0    41         1331       0.030804\n",
              "338    2016      LV  41.0 -37.375262  19.0    41         1494       0.027443\n",
              "126    2009     TEN  40.0 -39.881089  12.0    40         1317       0.030372\n",
              "94     2008     TEN  39.0 -28.748698   8.0    39         1390       0.028058\n",
              "39     2007     CLE  39.0 -32.216188  17.0    39         1365       0.028571\n",
              "65     2008     ATL  38.0 -31.164159  17.0    38         1432       0.026536\n",
              "54     2007      NO  36.0 -30.132779   7.0    36         1407       0.025586\n",
              "68     2008     CAR  35.0 -26.062936  17.0    35         1361       0.025716\n",
              "73     2008     DEN  18.0 -13.773149  11.0    18         1340       0.013433"
            ]
          },
          "metadata": {
            "tags": []
          },
          "execution_count": 103
        }
      ]
    },
    {
      "cell_type": "code",
      "metadata": {
        "id": "pJ5JWL0e4hzP",
        "colab_type": "code",
        "colab": {
          "base_uri": "https://localhost:8080/",
          "height": 296
        },
        "outputId": "4ae96a0f-9971-46eb-accd-c674cf8248d5"
      },
      "source": [
        "sns.regplot(x='hits_per_play',y='epa',data=hits_sum)\n",
        "sns.despine()\n",
        "plt.title('just hits, nothing else')\n",
        "plt.show()"
      ],
      "execution_count": 104,
      "outputs": [
        {
          "output_type": "display_data",
          "data": {
            "image/png": "[encoded data removed]",
            "text/plain": [
              "<Figure size 432x288 with 1 Axes>"
            ]
          },
          "metadata": {
            "tags": [],
            "needs_background": "light"
          }
        }
      ]
    },
    {
      "cell_type": "code",
      "metadata": {
        "id": "hbdml1pM-BZ-",
        "colab_type": "code",
        "colab": {}
      },
      "source": [
        "hits_pos = df.loc[df['pass']==1,['season','posteam','epa']].groupby(['season','posteam'],as_index=False).sum().merge(hits_sum.loc[:,['season','posteam','hits_per_play']])"
      ],
      "execution_count": 105,
      "outputs": []
    },
    {
      "cell_type": "code",
      "metadata": {
        "id": "LPh6to58_D0l",
        "colab_type": "code",
        "colab": {
          "base_uri": "https://localhost:8080/",
          "height": 296
        },
        "outputId": "e28b42e4-b0be-4311-b3f7-8cafadab27e8"
      },
      "source": [
        "sns.regplot(x='hits_per_play',y='epa',data=hits_pos)\n",
        "sns.despine()\n",
        "plt.title('hits per play, passes only')\n",
        "plt.show()"
      ],
      "execution_count": 106,
      "outputs": [
        {
          "output_type": "display_data",
          "data": {
            "image/png": "[encoded data removed]",
            "text/plain": [
              "<Figure size 432x288 with 1 Axes>"
            ]
          },
          "metadata": {
            "tags": [],
            "needs_background": "light"
          }
        }
      ]
    },
    {
      "cell_type": "code",
      "metadata": {
        "id": "WVRTUd7pE-rx",
        "colab_type": "code",
        "colab": {
          "base_uri": "https://localhost:8080/",
          "height": 419
        },
        "outputId": "de25d456-13fd-40c2-90e6-38339e729c0b"
      },
      "source": [
        "df.loc[df['pass']==1,['season','posteam','defteam','epa']].groupby(['season','posteam','defteam'],as_index=False).sum()"
      ],
      "execution_count": 107,
      "outputs": [
        {
          "output_type": "execute_result",
          "data": {
            "text/html": [
              "<div>\n",
              "<style scoped>\n",
              "    .dataframe tbody tr th:only-of-type {\n",
              "        vertical-align: middle;\n",
              "    }\n",
              "\n",
              "    .dataframe tbody tr th {\n",
              "        vertical-align: top;\n",
              "    }\n",
              "\n",
              "    .dataframe thead th {\n",
              "        text-align: right;\n",
              "    }\n",
              "</style>\n",
              "<table border=\"1\" class=\"dataframe\">\n",
              "  <thead>\n",
              "    <tr style=\"text-align: right;\">\n",
              "      <th></th>\n",
              "      <th>season</th>\n",
              "      <th>posteam</th>\n",
              "      <th>defteam</th>\n",
              "      <th>epa</th>\n",
              "    </tr>\n",
              "  </thead>\n",
              "  <tbody>\n",
              "    <tr>\n",
              "      <th>0</th>\n",
              "      <td>1999</td>\n",
              "      <td>ARI</td>\n",
              "      <td>ATL</td>\n",
              "      <td>-8.013808</td>\n",
              "    </tr>\n",
              "    <tr>\n",
              "      <th>1</th>\n",
              "      <td>1999</td>\n",
              "      <td>ARI</td>\n",
              "      <td>BUF</td>\n",
              "      <td>-1.418533</td>\n",
              "    </tr>\n",
              "    <tr>\n",
              "      <th>2</th>\n",
              "      <td>1999</td>\n",
              "      <td>ARI</td>\n",
              "      <td>DAL</td>\n",
              "      <td>-18.215727</td>\n",
              "    </tr>\n",
              "    <tr>\n",
              "      <th>3</th>\n",
              "      <td>1999</td>\n",
              "      <td>ARI</td>\n",
              "      <td>DET</td>\n",
              "      <td>0.411669</td>\n",
              "    </tr>\n",
              "    <tr>\n",
              "      <th>4</th>\n",
              "      <td>1999</td>\n",
              "      <td>ARI</td>\n",
              "      <td>GB</td>\n",
              "      <td>6.101999</td>\n",
              "    </tr>\n",
              "    <tr>\n",
              "      <th>...</th>\n",
              "      <td>...</td>\n",
              "      <td>...</td>\n",
              "      <td>...</td>\n",
              "      <td>...</td>\n",
              "    </tr>\n",
              "    <tr>\n",
              "      <th>8779</th>\n",
              "      <td>2019</td>\n",
              "      <td>WAS</td>\n",
              "      <td>NE</td>\n",
              "      <td>-24.504900</td>\n",
              "    </tr>\n",
              "    <tr>\n",
              "      <th>8780</th>\n",
              "      <td>2019</td>\n",
              "      <td>WAS</td>\n",
              "      <td>NYG</td>\n",
              "      <td>0.569430</td>\n",
              "    </tr>\n",
              "    <tr>\n",
              "      <th>8781</th>\n",
              "      <td>2019</td>\n",
              "      <td>WAS</td>\n",
              "      <td>NYJ</td>\n",
              "      <td>-13.043349</td>\n",
              "    </tr>\n",
              "    <tr>\n",
              "      <th>8782</th>\n",
              "      <td>2019</td>\n",
              "      <td>WAS</td>\n",
              "      <td>PHI</td>\n",
              "      <td>22.623459</td>\n",
              "    </tr>\n",
              "    <tr>\n",
              "      <th>8783</th>\n",
              "      <td>2019</td>\n",
              "      <td>WAS</td>\n",
              "      <td>SF</td>\n",
              "      <td>1.383793</td>\n",
              "    </tr>\n",
              "  </tbody>\n",
              "</table>\n",
              "<p>8784 rows × 4 columns</p>\n",
              "</div>"
            ],
            "text/plain": [
              "      season posteam defteam        epa\n",
              "0       1999     ARI     ATL  -8.013808\n",
              "1       1999     ARI     BUF  -1.418533\n",
              "2       1999     ARI     DAL -18.215727\n",
              "3       1999     ARI     DET   0.411669\n",
              "4       1999     ARI      GB   6.101999\n",
              "...      ...     ...     ...        ...\n",
              "8779    2019     WAS      NE -24.504900\n",
              "8780    2019     WAS     NYG   0.569430\n",
              "8781    2019     WAS     NYJ -13.043349\n",
              "8782    2019     WAS     PHI  22.623459\n",
              "8783    2019     WAS      SF   1.383793\n",
              "\n",
              "[8784 rows x 4 columns]"
            ]
          },
          "metadata": {
            "tags": []
          },
          "execution_count": 107
        }
      ]
    },
    {
      "cell_type": "code",
      "metadata": {
        "id": "xZtbVf30A7Ow",
        "colab_type": "code",
        "colab": {}
      },
      "source": [
        "plays_sum = df.loc[:,['season','defteam','ones']].groupby(['season','defteam'],as_index=False).sum()\n",
        "hits_sum = hits.loc[:,['season','defteam','pass','epa','sack','ones']].groupby(['season','defteam'],as_index=False).sum()\n",
        "hits_sum = hits_sum.merge(plays_sum.rename(columns={'ones':'total_plays'}))\n",
        "hits_sum['hits_per_play'] = hits_sum['ones'].div(hits_sum['total_plays'])\n",
        "hits_def = df.loc[df['pass']==1,['season','defteam','epa']].groupby(['season','defteam'],as_index=False).sum().merge(hits_sum.loc[:,['season','defteam','hits_per_play']])"
      ],
      "execution_count": 108,
      "outputs": []
    },
    {
      "cell_type": "code",
      "metadata": {
        "id": "rQEYVVIqFbon",
        "colab_type": "code",
        "colab": {
          "base_uri": "https://localhost:8080/",
          "height": 296
        },
        "outputId": "802d27e4-7a08-4d45-8093-8d4ce1e32cac"
      },
      "source": [
        "sns.regplot(x='hits_per_play',y='epa',data=hits_def)\n",
        "sns.despine()\n",
        "plt.title('hits per play, defense POV, passes only')\n",
        "plt.show()"
      ],
      "execution_count": 109,
      "outputs": [
        {
          "output_type": "display_data",
          "data": {
            "image/png": "[encoded data removed]",
            "text/plain": [
              "<Figure size 432x288 with 1 Axes>"
            ]
          },
          "metadata": {
            "tags": [],
            "needs_background": "light"
          }
        }
      ]
    },
    {
      "cell_type": "code",
      "metadata": {
        "id": "AP_CLTq0F9ao",
        "colab_type": "code",
        "colab": {
          "base_uri": "https://localhost:8080/",
          "height": 359
        },
        "outputId": "afe43e14-bd97-4fe5-8b2a-936905f9fb61"
      },
      "source": [
        "hits_def.sort_values('hits_per_play',ascending=False).head(10)"
      ],
      "execution_count": 110,
      "outputs": [
        {
          "output_type": "execute_result",
          "data": {
            "text/html": [
              "<div>\n",
              "<style scoped>\n",
              "    .dataframe tbody tr th:only-of-type {\n",
              "        vertical-align: middle;\n",
              "    }\n",
              "\n",
              "    .dataframe tbody tr th {\n",
              "        vertical-align: top;\n",
              "    }\n",
              "\n",
              "    .dataframe thead th {\n",
              "        text-align: right;\n",
              "    }\n",
              "</style>\n",
              "<table border=\"1\" class=\"dataframe\">\n",
              "  <thead>\n",
              "    <tr style=\"text-align: right;\">\n",
              "      <th></th>\n",
              "      <th>season</th>\n",
              "      <th>defteam</th>\n",
              "      <th>epa</th>\n",
              "      <th>hits_per_play</th>\n",
              "    </tr>\n",
              "  </thead>\n",
              "  <tbody>\n",
              "    <tr>\n",
              "      <th>409</th>\n",
              "      <td>2018</td>\n",
              "      <td>PHI</td>\n",
              "      <td>78.699354</td>\n",
              "      <td>0.088980</td>\n",
              "    </tr>\n",
              "    <tr>\n",
              "      <th>377</th>\n",
              "      <td>2017</td>\n",
              "      <td>PHI</td>\n",
              "      <td>-37.390073</td>\n",
              "      <td>0.087240</td>\n",
              "    </tr>\n",
              "    <tr>\n",
              "      <th>266</th>\n",
              "      <td>2014</td>\n",
              "      <td>DET</td>\n",
              "      <td>15.555503</td>\n",
              "      <td>0.087052</td>\n",
              "    </tr>\n",
              "    <tr>\n",
              "      <th>297</th>\n",
              "      <td>2015</td>\n",
              "      <td>DEN</td>\n",
              "      <td>-78.961203</td>\n",
              "      <td>0.085871</td>\n",
              "    </tr>\n",
              "    <tr>\n",
              "      <th>340</th>\n",
              "      <td>2016</td>\n",
              "      <td>MIN</td>\n",
              "      <td>1.669949</td>\n",
              "      <td>0.085870</td>\n",
              "    </tr>\n",
              "    <tr>\n",
              "      <th>442</th>\n",
              "      <td>2019</td>\n",
              "      <td>PIT</td>\n",
              "      <td>-44.599828</td>\n",
              "      <td>0.082202</td>\n",
              "    </tr>\n",
              "    <tr>\n",
              "      <th>292</th>\n",
              "      <td>2015</td>\n",
              "      <td>CAR</td>\n",
              "      <td>-92.358628</td>\n",
              "      <td>0.081710</td>\n",
              "    </tr>\n",
              "    <tr>\n",
              "      <th>312</th>\n",
              "      <td>2015</td>\n",
              "      <td>NYJ</td>\n",
              "      <td>-18.047068</td>\n",
              "      <td>0.081369</td>\n",
              "    </tr>\n",
              "    <tr>\n",
              "      <th>410</th>\n",
              "      <td>2018</td>\n",
              "      <td>PIT</td>\n",
              "      <td>64.700220</td>\n",
              "      <td>0.081307</td>\n",
              "    </tr>\n",
              "    <tr>\n",
              "      <th>258</th>\n",
              "      <td>2014</td>\n",
              "      <td>BAL</td>\n",
              "      <td>71.134661</td>\n",
              "      <td>0.081205</td>\n",
              "    </tr>\n",
              "  </tbody>\n",
              "</table>\n",
              "</div>"
            ],
            "text/plain": [
              "     season defteam        epa  hits_per_play\n",
              "409    2018     PHI  78.699354       0.088980\n",
              "377    2017     PHI -37.390073       0.087240\n",
              "266    2014     DET  15.555503       0.087052\n",
              "297    2015     DEN -78.961203       0.085871\n",
              "340    2016     MIN   1.669949       0.085870\n",
              "442    2019     PIT -44.599828       0.082202\n",
              "292    2015     CAR -92.358628       0.081710\n",
              "312    2015     NYJ -18.047068       0.081369\n",
              "410    2018     PIT  64.700220       0.081307\n",
              "258    2014     BAL  71.134661       0.081205"
            ]
          },
          "metadata": {
            "tags": []
          },
          "execution_count": 110
        }
      ]
    },
    {
      "cell_type": "code",
      "metadata": {
        "id": "gwVaMWBnGB2z",
        "colab_type": "code",
        "colab": {
          "base_uri": "https://localhost:8080/",
          "height": 359
        },
        "outputId": "b047b4e2-cecc-4ac5-e9c9-6423846fc761"
      },
      "source": [
        "hits_def.sort_values('hits_per_play',ascending=False).tail(10)"
      ],
      "execution_count": 111,
      "outputs": [
        {
          "output_type": "execute_result",
          "data": {
            "text/html": [
              "<div>\n",
              "<style scoped>\n",
              "    .dataframe tbody tr th:only-of-type {\n",
              "        vertical-align: middle;\n",
              "    }\n",
              "\n",
              "    .dataframe tbody tr th {\n",
              "        vertical-align: top;\n",
              "    }\n",
              "\n",
              "    .dataframe thead th {\n",
              "        text-align: right;\n",
              "    }\n",
              "</style>\n",
              "<table border=\"1\" class=\"dataframe\">\n",
              "  <thead>\n",
              "    <tr style=\"text-align: right;\">\n",
              "      <th></th>\n",
              "      <th>season</th>\n",
              "      <th>defteam</th>\n",
              "      <th>epa</th>\n",
              "      <th>hits_per_play</th>\n",
              "    </tr>\n",
              "  </thead>\n",
              "  <tbody>\n",
              "    <tr>\n",
              "      <th>36</th>\n",
              "      <td>2007</td>\n",
              "      <td>CAR</td>\n",
              "      <td>36.324696</td>\n",
              "      <td>0.031025</td>\n",
              "    </tr>\n",
              "    <tr>\n",
              "      <th>31</th>\n",
              "      <td>2006</td>\n",
              "      <td>WAS</td>\n",
              "      <td>130.523486</td>\n",
              "      <td>0.030928</td>\n",
              "    </tr>\n",
              "    <tr>\n",
              "      <th>73</th>\n",
              "      <td>2008</td>\n",
              "      <td>DEN</td>\n",
              "      <td>126.259984</td>\n",
              "      <td>0.028223</td>\n",
              "    </tr>\n",
              "    <tr>\n",
              "      <th>41</th>\n",
              "      <td>2007</td>\n",
              "      <td>DEN</td>\n",
              "      <td>76.280854</td>\n",
              "      <td>0.028116</td>\n",
              "    </tr>\n",
              "    <tr>\n",
              "      <th>50</th>\n",
              "      <td>2007</td>\n",
              "      <td>LV</td>\n",
              "      <td>0.822578</td>\n",
              "      <td>0.027799</td>\n",
              "    </tr>\n",
              "    <tr>\n",
              "      <th>111</th>\n",
              "      <td>2009</td>\n",
              "      <td>KC</td>\n",
              "      <td>27.801211</td>\n",
              "      <td>0.027679</td>\n",
              "    </tr>\n",
              "    <tr>\n",
              "      <th>81</th>\n",
              "      <td>2008</td>\n",
              "      <td>LAC</td>\n",
              "      <td>78.916401</td>\n",
              "      <td>0.025933</td>\n",
              "    </tr>\n",
              "    <tr>\n",
              "      <th>82</th>\n",
              "      <td>2008</td>\n",
              "      <td>LV</td>\n",
              "      <td>46.715598</td>\n",
              "      <td>0.025788</td>\n",
              "    </tr>\n",
              "    <tr>\n",
              "      <th>33</th>\n",
              "      <td>2007</td>\n",
              "      <td>ATL</td>\n",
              "      <td>39.515533</td>\n",
              "      <td>0.024566</td>\n",
              "    </tr>\n",
              "    <tr>\n",
              "      <th>79</th>\n",
              "      <td>2008</td>\n",
              "      <td>KC</td>\n",
              "      <td>71.487209</td>\n",
              "      <td>0.018992</td>\n",
              "    </tr>\n",
              "  </tbody>\n",
              "</table>\n",
              "</div>"
            ],
            "text/plain": [
              "     season defteam         epa  hits_per_play\n",
              "36     2007     CAR   36.324696       0.031025\n",
              "31     2006     WAS  130.523486       0.030928\n",
              "73     2008     DEN  126.259984       0.028223\n",
              "41     2007     DEN   76.280854       0.028116\n",
              "50     2007      LV    0.822578       0.027799\n",
              "111    2009      KC   27.801211       0.027679\n",
              "81     2008     LAC   78.916401       0.025933\n",
              "82     2008      LV   46.715598       0.025788\n",
              "33     2007     ATL   39.515533       0.024566\n",
              "79     2008      KC   71.487209       0.018992"
            ]
          },
          "metadata": {
            "tags": []
          },
          "execution_count": 111
        }
      ]
    },
    {
      "cell_type": "code",
      "metadata": {
        "id": "9BHurfrlIK7t",
        "colab_type": "code",
        "colab": {
          "base_uri": "https://localhost:8080/",
          "height": 34
        },
        "outputId": "9d675ba9-4ba8-482c-db0e-810e3836ebb0"
      },
      "source": [
        "model_data = (df\n",
        "              .loc[(df['pass']==1)&\n",
        "                   (df['penalty']==0)&\n",
        "                   (df['season']>=2006),\n",
        "                   ['game_id','season','posteam',\n",
        "                    'defteam','epa','qb_hit','ones']]\n",
        "              .groupby(['game_id','season','posteam','defteam'],\n",
        "                       as_index=False)\n",
        "              .sum())\n",
        "model_data.shape"
      ],
      "execution_count": 96,
      "outputs": [
        {
          "output_type": "execute_result",
          "data": {
            "text/plain": [
              "(7476, 7)"
            ]
          },
          "metadata": {
            "tags": []
          },
          "execution_count": 96
        }
      ]
    },
    {
      "cell_type": "code",
      "metadata": {
        "id": "W_kcJsx9J3SY",
        "colab_type": "code",
        "colab": {}
      },
      "source": [
        "model_data['game_hits_per_play'] = model_data['qb_hit'].div(model_data['ones'])"
      ],
      "execution_count": 100,
      "outputs": []
    },
    {
      "cell_type": "code",
      "metadata": {
        "id": "ClMV7fJbK2g2",
        "colab_type": "code",
        "colab": {}
      },
      "source": [
        "model_data = (model_data\n",
        "              .merge(hits_pos\n",
        "                     .loc[:,['season','posteam','hits_per_play']]\n",
        "                     .rename(columns={'hits_per_play':'pos_hits_per_play'}))\n",
        "              .merge(hits_def\n",
        "                     .loc[:,['season','defteam','hits_per_play']]\n",
        "                     .rename(columns={'hits_per_play':'def_hits_per_play'})))"
      ],
      "execution_count": 115,
      "outputs": []
    },
    {
      "cell_type": "code",
      "metadata": {
        "id": "VC1zud1-N2ct",
        "colab_type": "code",
        "colab": {}
      },
      "source": [
        "model_feats = ['pos_hits_per_play', 'def_hits_per_play']\n",
        "target = 'game_hits_per_play'"
      ],
      "execution_count": 160,
      "outputs": []
    },
    {
      "cell_type": "code",
      "metadata": {
        "id": "SPYvvKxSNxT2",
        "colab_type": "code",
        "colab": {}
      },
      "source": [
        "df_pred = pd.DataFrame()\n",
        "kf = KFold(10,shuffle=True)\n",
        "for train_idx, test_idx in kf.split(model_data):\n",
        "  train_data = model_data.iloc[train_idx]\n",
        "  test_data = model_data.iloc[test_idx]\n",
        "\n",
        "  model = LinearRegression()\n",
        "  model.fit(train_data.loc[:,model_feats],train_data.loc[:,target])\n",
        "  test_data[f\"{target}_pred\"] = pd.Series(model.predict(test_data.loc[:,model_feats]), index=test_data.index)\n",
        "  df_pred = df_pred.append(test_data)"
      ],
      "execution_count": null,
      "outputs": []
    },
    {
      "cell_type": "code",
      "metadata": {
        "id": "mYWPhimlSzcG",
        "colab_type": "code",
        "colab": {
          "base_uri": "https://localhost:8080/",
          "height": 341
        },
        "outputId": "0d9153e1-efb3-44ff-f796-ec9eb0c2173b"
      },
      "source": [
        "rmse = mean_squared_error(df_pred[target],df_pred[f\"{target}_pred\"])**0.5\n",
        "r2 = pearsonr(df_pred[target],df_pred[f\"{target}_pred\"])[0]**2\n",
        "\n",
        "f = sns.regplot(target,f\"{target}_pred\",data=df_pred)\n",
        "xlim = f.get_xlim()\n",
        "ylim = f.get_ylim()\n",
        "plt.plot([0,1],[0,1],\"k:\")\n",
        "f.set_xlim(xlim)\n",
        "f.set_ylim(ylim)\n",
        "plt.title(f\"\"\"actual vs pred\\nRMSE: {round(rmse,3)}\\nR2 {round(r2,3)}\\n\"\"\")\n",
        "sns.despine()\n",
        "plt.show()"
      ],
      "execution_count": 166,
      "outputs": [
        {
          "output_type": "display_data",
          "data": {
            "image/png": "[encoded data removed]",
            "text/plain": [
              "<Figure size 432x288 with 1 Axes>"
            ]
          },
          "metadata": {
            "tags": [],
            "needs_background": "light"
          }
        }
      ]
    },
    {
      "cell_type": "code",
      "metadata": {
        "id": "U7JP-cmNUt1w",
        "colab_type": "code",
        "colab": {}
      },
      "source": [
        "model_feats = ['pos_hits_per_play', 'def_hits_per_play']\n",
        "target = 'epa'\n",
        "\n",
        "df_pred = pd.DataFrame()\n",
        "kf = KFold(10,shuffle=True)\n",
        "for train_idx, test_idx in kf.split(model_data):\n",
        "  train_data = model_data.iloc[train_idx]\n",
        "  test_data = model_data.iloc[test_idx]\n",
        "\n",
        "  model = LinearRegression()\n",
        "  model.fit(train_data.loc[:,model_feats],train_data.loc[:,target])\n",
        "  test_data[f\"{target}_pred\"] = pd.Series(model.predict(test_data.loc[:,model_feats]), index=test_data.index)\n",
        "  df_pred = df_pred.append(test_data)"
      ],
      "execution_count": null,
      "outputs": []
    },
    {
      "cell_type": "code",
      "metadata": {
        "id": "aOoTZlEfVIhz",
        "colab_type": "code",
        "colab": {
          "base_uri": "https://localhost:8080/",
          "height": 340
        },
        "outputId": "70dc05c6-9107-44f0-fdb0-68d835b23a14"
      },
      "source": [
        "rmse = mean_squared_error(df_pred[target],df_pred[f\"{target}_pred\"])**0.5\n",
        "r2 = pearsonr(df_pred[target],df_pred[f\"{target}_pred\"])[0]**2\n",
        "\n",
        "f = sns.regplot(target,f\"{target}_pred\",data=df_pred)\n",
        "xlim = f.get_xlim()\n",
        "ylim = f.get_ylim()\n",
        "plt.plot([-100,100],[-100,100],\"k:\")\n",
        "f.set_xlim(xlim)\n",
        "f.set_ylim(ylim)\n",
        "plt.title(f\"\"\"actual vs pred\\nRMSE: {round(rmse,3)}\\nR2 {round(r2,3)}\\n\"\"\")\n",
        "sns.despine()\n",
        "plt.show()"
      ],
      "execution_count": 169,
      "outputs": [
        {
          "output_type": "display_data",
          "data": {
            "image/png": "[encoded data removed]",
            "text/plain": [
              "<Figure size 432x288 with 1 Axes>"
            ]
          },
          "metadata": {
            "tags": [],
            "needs_background": "light"
          }
        }
      ]
    },
    {
      "cell_type": "markdown",
      "metadata": {
        "id": "eNLf6VXMYn-z",
        "colab_type": "text"
      },
      "source": [
        "These models aren't horrible. They are a great starting point for trying to parse out the contributions of the defense on qb pressures and the \"contributions\" of the offense on qb pressures. To some extent we can predict how many hits per game a QB may incur using season hits-per-play aggregates for the offense and defense. This did not accurately predict EPA for a game. \n",
        "\n",
        "Some things to try: control for more things on offense given the QB -- control for more things on the defense given perhaps top performers in the season?  \n"
      ]
    }
  ]
}